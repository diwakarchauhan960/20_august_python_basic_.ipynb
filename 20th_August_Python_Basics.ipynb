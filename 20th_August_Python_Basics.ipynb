{
 "cells": [
  {
   "cell_type": "code",
   "execution_count": 1,
   "id": "14585806-d9d4-4511-9752-da254ef9cd37",
   "metadata": {},
   "outputs": [
    {
     "name": "stdout",
     "output_type": "stream",
     "text": [
      "!dlrow ,olleH\n"
     ]
    }
   ],
   "source": [
    "def reverse_string(input_str):\n",
    "    reversed_str = input_str[::-1]\n",
    "    return reversed_str\n",
    "\n",
    "# Example usage\n",
    "input_string = \"Hello, world!\"\n",
    "reversed_string = reverse_string(input_string)\n",
    "print(reversed_string)\n"
   ]
  },
  {
   "cell_type": "code",
   "execution_count": 2,
   "id": "8daf4d76-3636-479c-a76f-e39485e9acc1",
   "metadata": {},
   "outputs": [
    {
     "name": "stdout",
     "output_type": "stream",
     "text": [
      "The input string is a palindrome.\n"
     ]
    }
   ],
   "source": [
    "def is_palindrome(input_str):\n",
    "    cleaned_str = ''.join(filter(str.isalnum, input_str)).lower()\n",
    "    return cleaned_str == cleaned_str[::-1]\n",
    "\n",
    "# Example usage\n",
    "input_string = \"A man, a plan, a canal, Panama!\"\n",
    "if is_palindrome(input_string):\n",
    "    print(\"The input string is a palindrome.\")\n",
    "else:\n",
    "    print(\"The input string is not a palindrome.\")\n"
   ]
  },
  {
   "cell_type": "code",
   "execution_count": 3,
   "id": "8c22756e-e624-401f-bc3a-3711211e7f1c",
   "metadata": {},
   "outputs": [
    {
     "name": "stdout",
     "output_type": "stream",
     "text": [
      "HELLO, WORLD!\n"
     ]
    }
   ],
   "source": [
    "def to_uppercase(input_str):\n",
    "    uppercase_str = input_str.upper()\n",
    "    return uppercase_str\n",
    "\n",
    "# Example usage\n",
    "input_string = \"Hello, world!\"\n",
    "uppercase_string = to_uppercase(input_string)\n",
    "print(uppercase_string)\n"
   ]
  },
  {
   "cell_type": "code",
   "execution_count": 11,
   "id": "98f69fb4-15a8-4d9f-940f-2e97796bbb47",
   "metadata": {},
   "outputs": [
    {
     "name": "stdout",
     "output_type": "stream",
     "text": [
      "hello, everyone!\n"
     ]
    }
   ],
   "source": [
    "def to_lowercase(input_str):\n",
    "    lowercase_str = input_str.lower()\n",
    "    return lowercase_str\n",
    "\n",
    "# Example usage\n",
    "input_string = \"Hello, everyone!\"\n",
    "lowercase_string = to_lowercase(input_string)\n",
    "print(lowercase_string)\n"
   ]
  },
  {
   "cell_type": "code",
   "execution_count": 10,
   "id": "91346cba-1831-494a-abdf-c8532ebd3a17",
   "metadata": {},
   "outputs": [
    {
     "name": "stdout",
     "output_type": "stream",
     "text": [
      "Number of vowels: 10\n"
     ]
    }
   ],
   "source": [
    "def count_vowels(input_str):\n",
    "    vowels = \"AEIOUaeiou\"\n",
    "    vowel_count = 0\n",
    "    for char in input_str:\n",
    "        if char in vowels:\n",
    "            vowel_count += 1\n",
    "    return vowel_count\n",
    "\n",
    "# Example usage\n",
    "input_string = \"Hello, i am diwakar chauhan?\"\n",
    "vowel_count = count_vowels(input_string)\n",
    "print(\"Number of vowels:\", vowel_count)\n"
   ]
  },
  {
   "cell_type": "code",
   "execution_count": 9,
   "id": "87f640c9-aa3c-4ea3-a60b-8e169877ea44",
   "metadata": {},
   "outputs": [
    {
     "name": "stdout",
     "output_type": "stream",
     "text": [
      "Number of consonants: 12\n"
     ]
    }
   ],
   "source": [
    "def count_consonants(input_str):\n",
    "    consonants = \"BCDFGHJKLMNPQRSTVWXYZbcdfghjklmnpqrstvwxyz\"\n",
    "    consonant_count = 0\n",
    "    for char in input_str:\n",
    "        if char in consonants:\n",
    "            consonant_count += 1\n",
    "    return consonant_count\n",
    "\n",
    "# Example usage\n",
    "input_string = \"Hello, i am diwakar chauhan?\"\n",
    "consonant_count = count_consonants(input_string)\n",
    "print(\"Number of consonants:\", consonant_count)\n"
   ]
  },
  {
   "cell_type": "code",
   "execution_count": 8,
   "id": "85b1be72-440d-432b-b4b6-3000a0eea655",
   "metadata": {},
   "outputs": [
    {
     "name": "stdout",
     "output_type": "stream",
     "text": [
      "Hello,iamdiwakarchauhan?\n"
     ]
    }
   ],
   "source": [
    "def remove_whitespace(input_str):\n",
    "    no_whitespace_str = input_str.replace(\" \", \"\")\n",
    "    return no_whitespace_str\n",
    "\n",
    "# Example usage\n",
    "input_string = \"Hello, i am diwakar chauhan?\"\n",
    "no_whitespace_string = remove_whitespace(input_string)\n",
    "print(no_whitespace_string)\n"
   ]
  },
  {
   "cell_type": "code",
   "execution_count": 12,
   "id": "692866ba-0a6e-46e6-81bd-a26737193e12",
   "metadata": {},
   "outputs": [
    {
     "name": "stdout",
     "output_type": "stream",
     "text": [
      "Length of the string: 19\n"
     ]
    }
   ],
   "source": [
    "def string_length(input_str):\n",
    "    count = 0\n",
    "    while input_str:\n",
    "        count += 1\n",
    "        input_str = input_str[1:]\n",
    "    return count\n",
    "\n",
    "# Example usage\n",
    "input_string = \"Hello, how are you?\"\n",
    "length = string_length(input_string)\n",
    "print(\"Length of the string:\", length)\n"
   ]
  },
  {
   "cell_type": "code",
   "execution_count": 16,
   "id": "32d3f75d-ba5d-448d-8c7c-e2cf2766f071",
   "metadata": {},
   "outputs": [
    {
     "name": "stdout",
     "output_type": "stream",
     "text": [
      "The string contains the word 'how'.\n"
     ]
    }
   ],
   "source": [
    "def contains_word(input_str, target_word):\n",
    "    return target_word in input_str\n",
    "\n",
    "# Example usage\n",
    "input_string = \"Hello, how are you diwakar?\"\n",
    "word_to_check = \"how\"\n",
    "if contains_word(input_string, word_to_check):\n",
    "    print(\"The string contains the word '{}'.\".format(word_to_check))\n",
    "else:\n",
    "    print(\"The string does not contain the word '{}'.\".format(word_to_check))\n"
   ]
  },
  {
   "cell_type": "code",
   "execution_count": 14,
   "id": "d1fb591c-bdb8-4da0-8ad4-8f387f3dd90c",
   "metadata": {},
   "outputs": [
    {
     "name": "stdout",
     "output_type": "stream",
     "text": [
      "Hello, what are you?\n"
     ]
    }
   ],
   "source": [
    "def replace_word(input_str, old_word, new_word):\n",
    "    modified_str = input_str.replace(old_word, new_word)\n",
    "    return modified_str\n",
    "\n",
    "# Example usage\n",
    "input_string = \"Hello, how are you?\"\n",
    "old_word = \"how\"\n",
    "new_word = \"what\"\n",
    "modified_string = replace_word(input_string, old_word, new_word)\n",
    "print(modified_string)\n"
   ]
  },
  {
   "cell_type": "code",
   "execution_count": 18,
   "id": "602ad8d2-ef5c-4cdd-86e6-5867aceb1f29",
   "metadata": {},
   "outputs": [
    {
     "name": "stdout",
     "output_type": "stream",
     "text": [
      "Occurrences of 'How': 1\n"
     ]
    }
   ],
   "source": [
    "def count_word_occurrences(input_str, target_word):\n",
    "    words = input_str.split()\n",
    "    occurrences = words.count(target_word)\n",
    "    return occurrences\n",
    "\n",
    "# Example usage\n",
    "input_string = \"Hello,How is it? How is your day? How's everything?\"\n",
    "target_word = \"How\"\n",
    "occurrences = count_word_occurrences(input_string, target_word)\n",
    "print(\"Occurrences of '{}': {}\".format(target_word, occurrences))\n"
   ]
  },
  {
   "cell_type": "code",
   "execution_count": 22,
   "id": "bad3cd0d-f6e1-4d23-9527-fb20145fb5d1",
   "metadata": {},
   "outputs": [
    {
     "name": "stdout",
     "output_type": "stream",
     "text": [
      "First occurrence of 'How': 28\n"
     ]
    }
   ],
   "source": [
    "def find_first_occurrence(input_str, target_word):\n",
    "    index = input_str.find(target_word)\n",
    "    return index\n",
    "\n",
    "# Example usage\n",
    "input_string = \"Hello, how are you diwakar? How is your day? How's everything?\"\n",
    "target_word = \"How\"\n",
    "first_occurrence_index = find_first_occurrence(input_string, target_word)\n",
    "\n",
    "if first_occurrence_index != -1:\n",
    "    print(\"First occurrence of '{}': {}\".format(target_word, first_occurrence_index))\n",
    "else:\n",
    "    print(\"Word '{}' not found in the string.\".format(target_word))\n"
   ]
  },
  {
   "cell_type": "code",
   "execution_count": 21,
   "id": "7b1316f1-f918-4a02-b6df-061b2edcd3ef",
   "metadata": {},
   "outputs": [
    {
     "name": "stdout",
     "output_type": "stream",
     "text": [
      "Last occurrence of 'How': 54\n"
     ]
    }
   ],
   "source": [
    "def find_last_occurrence(input_str, target_word):\n",
    "    index = input_str.rfind(target_word)\n",
    "    return index\n",
    "\n",
    "# Example usage\n",
    "input_string = \"Hello, how are you diwakar ? How is your day diwakar? How's everything?\"\n",
    "target_word = \"How\"\n",
    "last_occurrence_index = find_last_occurrence(input_string, target_word)\n",
    "\n",
    "if last_occurrence_index != -1:\n",
    "    print(\"Last occurrence of '{}': {}\".format(target_word, last_occurrence_index))\n",
    "else:\n",
    "    print(\"Word '{}' not found in the string.\".format(target_word))\n"
   ]
  },
  {
   "cell_type": "code",
   "execution_count": 24,
   "id": "2528e738-ac25-4ef0-bd34-6a75b14ba0a4",
   "metadata": {},
   "outputs": [
    {
     "name": "stdout",
     "output_type": "stream",
     "text": [
      "['Hello,', 'how', 'are', 'you', 'diwakar?']\n"
     ]
    }
   ],
   "source": [
    "def split_string(input_str):\n",
    "    word_list = input_str.split()\n",
    "    return word_list\n",
    "\n",
    "# Example usage\n",
    "input_string = \"Hello, how are you diwakar?\"\n",
    "words = split_string(input_string)\n",
    "print(words)\n"
   ]
  },
  {
   "cell_type": "code",
   "execution_count": 28,
   "id": "f74eee36-4584-4829-9fe4-908654c01643",
   "metadata": {},
   "outputs": [
    {
     "name": "stdout",
     "output_type": "stream",
     "text": [
      "Hello, how are you ,?\n"
     ]
    }
   ],
   "source": [
    "def join_words(word_list):\n",
    "    joined_string = ' '.join(word_list)\n",
    "    return joined_string\n",
    "\n",
    "# Example usage\n",
    "words = ['Hello,', 'how', 'are', 'you ,?']\n",
    "joined_string = join_words(words)\n",
    "print(joined_string)\n"
   ]
  },
  {
   "cell_type": "code",
   "execution_count": 30,
   "id": "0afb9f24-5e30-441b-a423-648205fdac1e",
   "metadata": {},
   "outputs": [
    {
     "name": "stdout",
     "output_type": "stream",
     "text": [
      "Hello,_how_are_you_diwakar?\n"
     ]
    }
   ],
   "source": [
    "def convert_to_underscores(input_str):\n",
    "    underscored_str = input_str.replace(\" \", \"_\")\n",
    "    return underscored_str\n",
    "\n",
    "# Example usage\n",
    "input_string = \"Hello, how are you diwakar?\"\n",
    "underscored_string = convert_to_underscores(input_string)\n",
    "print(underscored_string)\n"
   ]
  },
  {
   "cell_type": "code",
   "execution_count": 32,
   "id": "b215dc0f-9081-4a36-9032-d9771caea99f",
   "metadata": {},
   "outputs": [
    {
     "name": "stdout",
     "output_type": "stream",
     "text": [
      "The string starts with 'Hello'.\n"
     ]
    }
   ],
   "source": [
    "def starts_with(input_str, prefix):\n",
    "    return input_str.startswith(prefix)\n",
    "\n",
    "# Example usage\n",
    "input_string = \"Hello, how are you mr diwakar chauhan?\"\n",
    "prefix_to_check = \"Hello\"\n",
    "if starts_with(input_string, prefix_to_check):\n",
    "    print(\"The string starts with '{}'.\".format(prefix_to_check))\n",
    "else:\n",
    "    print(\"The string does not start with '{}'.\".format(prefix_to_check))\n"
   ]
  },
  {
   "cell_type": "code",
   "execution_count": 34,
   "id": "591bb592-8e0c-4186-8512-c032875c6b39",
   "metadata": {},
   "outputs": [
    {
     "name": "stdout",
     "output_type": "stream",
     "text": [
      "The string does not end with 'you?'.\n"
     ]
    }
   ],
   "source": [
    "def ends_with(input_str, suffix):\n",
    "    return input_str.endswith(suffix)\n",
    "\n",
    "# Example usage\n",
    "input_string = \"Hello, how are you diwakar chauhan?\"\n",
    "suffix_to_check = \"you?\"\n",
    "if ends_with(input_string, suffix_to_check):\n",
    "    print(\"The string ends with '{}'.\".format(suffix_to_check))\n",
    "else:\n",
    "    print(\"The string does not end with '{}'.\".format(suffix_to_check))\n"
   ]
  },
  {
   "cell_type": "code",
   "execution_count": 35,
   "id": "ce65fe22-3eb1-4827-bd40-ea7eccae98e1",
   "metadata": {},
   "outputs": [
    {
     "name": "stdout",
     "output_type": "stream",
     "text": [
      "Hello World\n"
     ]
    }
   ],
   "source": [
    "def to_title_case(input_str):\n",
    "    title_case_str = input_str.title()\n",
    "    return title_case_str\n",
    "\n",
    "# Example usage\n",
    "input_string = \"hello world\"\n",
    "title_case_string = to_title_case(input_string)\n",
    "print(title_case_string)\n"
   ]
  },
  {
   "cell_type": "code",
   "execution_count": 36,
   "id": "8f2cf55a-a9a4-4ef9-adf6-420f78f9f250",
   "metadata": {},
   "outputs": [
    {
     "name": "stdout",
     "output_type": "stream",
     "text": [
      "The longest word is: Hello,\n"
     ]
    }
   ],
   "source": [
    "def find_longest_word(input_str):\n",
    "    words = input_str.split()\n",
    "    longest_word = max(words, key=len)\n",
    "    return longest_word\n",
    "\n",
    "# Example usage\n",
    "input_string = \"Hello, how are you doing today?\"\n",
    "longest_word = find_longest_word(input_string)\n",
    "print(\"The longest word is:\", longest_word)\n"
   ]
  },
  {
   "cell_type": "code",
   "execution_count": 37,
   "id": "94af9cef-e929-4ebb-85f6-ddeea8c7f6b4",
   "metadata": {},
   "outputs": [
    {
     "name": "stdout",
     "output_type": "stream",
     "text": [
      "The shortest word is: how\n"
     ]
    }
   ],
   "source": [
    "def find_shortest_word(input_str):\n",
    "    words = input_str.split()\n",
    "    shortest_word = min(words, key=len)\n",
    "    return shortest_word\n",
    "\n",
    "# Example usage\n",
    "input_string = \"Hello, how are you doing today?\"\n",
    "shortest_word = find_shortest_word(input_string)\n",
    "print(\"The shortest word is:\", shortest_word)\n"
   ]
  },
  {
   "cell_type": "code",
   "execution_count": 39,
   "id": "33dc252e-dce9-46ad-b642-5047d0c0c1e9",
   "metadata": {},
   "outputs": [
    {
     "name": "stdout",
     "output_type": "stream",
     "text": [
      "diwakar? you are how Hello,\n"
     ]
    }
   ],
   "source": [
    "def reverse_word_order(input_str):\n",
    "    words = input_str.split()\n",
    "    reversed_words = ' '.join(reversed(words))\n",
    "    return reversed_words\n",
    "\n",
    "# Example usage\n",
    "input_string = \"Hello, how are you diwakar?\"\n",
    "reversed_string = reverse_word_order(input_string)\n",
    "print(reversed_string)\n"
   ]
  },
  {
   "cell_type": "code",
   "execution_count": 41,
   "id": "9d4b137c-7099-41a9-8dee-6946ee4b869a",
   "metadata": {},
   "outputs": [
    {
     "name": "stdout",
     "output_type": "stream",
     "text": [
      "The string is alphanumeric.\n"
     ]
    }
   ],
   "source": [
    "def is_alphanumeric(input_str):\n",
    "    return input_str.isalnum()\n",
    "\n",
    "# Example usage\n",
    "input_string = \"Diwakaro123\"\n",
    "if is_alphanumeric(input_string):\n",
    "    print(\"The string is alphanumeric.\")\n",
    "else:\n",
    "    print(\"The string is not alphanumeric.\")\n"
   ]
  },
  {
   "cell_type": "code",
   "execution_count": 42,
   "id": "69dfb174-f669-491f-9984-e58e9b11b4f1",
   "metadata": {},
   "outputs": [
    {
     "name": "stdout",
     "output_type": "stream",
     "text": [
      "Extracted digits: 123456\n"
     ]
    }
   ],
   "source": [
    "def extract_digits(input_str):\n",
    "    digits = ''.join(filter(str.isdigit, input_str))\n",
    "    return digits\n",
    "\n",
    "# Example usage\n",
    "input_string = \"Hello123 World456\"\n",
    "extracted_digits = extract_digits(input_string)\n",
    "print(\"Extracted digits:\", extracted_digits)\n"
   ]
  },
  {
   "cell_type": "code",
   "execution_count": 43,
   "id": "66963e53-41b7-4cf2-b14e-6ebe294de46f",
   "metadata": {},
   "outputs": [
    {
     "name": "stdout",
     "output_type": "stream",
     "text": [
      "Extracted alphabets: HelloWorld\n"
     ]
    }
   ],
   "source": [
    "def extract_alphabets(input_str):\n",
    "    alphabets = ''.join(filter(str.isalpha, input_str))\n",
    "    return alphabets\n",
    "\n",
    "# Example usage\n",
    "input_string = \"Hello123 World456\"\n",
    "extracted_alphabets = extract_alphabets(input_string)\n",
    "print(\"Extracted alphabets:\", extracted_alphabets)\n"
   ]
  },
  {
   "cell_type": "code",
   "execution_count": 44,
   "id": "71149b6e-5ac2-4cf3-87e7-fec779ae2691",
   "metadata": {},
   "outputs": [
    {
     "name": "stdout",
     "output_type": "stream",
     "text": [
      "Number of uppercase letters: 6\n"
     ]
    }
   ],
   "source": [
    "def count_uppercase_letters(input_str):\n",
    "    uppercase_count = sum(1 for char in input_str if char.isupper())\n",
    "    return uppercase_count\n",
    "\n",
    "# Example usage\n",
    "input_string = \"Hello, How ARE You?\"\n",
    "uppercase_count = count_uppercase_letters(input_string)\n",
    "print(\"Number of uppercase letters:\", uppercase_count)\n"
   ]
  },
  {
   "cell_type": "code",
   "execution_count": 46,
   "id": "8414f44a-5b54-4eb8-bb1d-f45e57782830",
   "metadata": {},
   "outputs": [
    {
     "name": "stdout",
     "output_type": "stream",
     "text": [
      "Number of lowercase letters: 15\n"
     ]
    }
   ],
   "source": [
    "def count_lowercase_letters(input_str):\n",
    "    lowercase_count = sum(1 for char in input_str if char.islower())\n",
    "    return lowercase_count\n",
    "\n",
    "# Example usage\n",
    "input_string = \"Hello, How ARE You diwakar?\"\n",
    "lowercase_count = count_lowercase_letters(input_string)\n",
    "print(\"Number of lowercase letters:\", lowercase_count)\n"
   ]
  },
  {
   "cell_type": "code",
   "execution_count": 47,
   "id": "ab1a9a5d-7574-437e-a056-afbb1a36da8a",
   "metadata": {},
   "outputs": [
    {
     "name": "stdout",
     "output_type": "stream",
     "text": [
      "Swapped case: hELLO, hOW are yOU?\n"
     ]
    }
   ],
   "source": [
    "def swap_case(input_str):\n",
    "    swapped_str = input_str.swapcase()\n",
    "    return swapped_str\n",
    "\n",
    "# Example usage\n",
    "input_string = \"Hello, How ARE You?\"\n",
    "swapped_string = swap_case(input_string)\n",
    "print(\"Swapped case:\", swapped_string)\n"
   ]
  },
  {
   "cell_type": "code",
   "execution_count": 49,
   "id": "cc3c50ea-85df-48c6-8fcf-855851dd760e",
   "metadata": {},
   "outputs": [
    {
     "name": "stdout",
     "output_type": "stream",
     "text": [
      "Hello, are you doing today diwakar?\n"
     ]
    }
   ],
   "source": [
    "def remove_word(input_str, word_to_remove):\n",
    "    words = input_str.split()\n",
    "    filtered_words = [word for word in words if word != word_to_remove]\n",
    "    new_string = ' '.join(filtered_words)\n",
    "    return new_string\n",
    "\n",
    "# Example usage\n",
    "input_string = \"Hello, how are you doing today diwakar?\"\n",
    "word_to_remove = \"how\"\n",
    "modified_string = remove_word(input_string, word_to_remove)\n",
    "print(modified_string)\n"
   ]
  },
  {
   "cell_type": "code",
   "execution_count": 52,
   "id": "94ae2f63-6729-42ef-8093-f076368a5fc5",
   "metadata": {},
   "outputs": [
    {
     "name": "stdout",
     "output_type": "stream",
     "text": [
      "The email address is valid.\n"
     ]
    }
   ],
   "source": [
    "import re\n",
    "\n",
    "def is_valid_email(email):\n",
    "    # Regular expression pattern for a basic email validation\n",
    "    pattern = r'^[a-zA-Z0-9._%+-]+@[a-zA-Z0-9.-]+\\.[a-zA-Z]{2,}$'\n",
    "    return re.match(pattern, email) is not None\n",
    "\n",
    "# Example usage\n",
    "email_address = \"chauhandiwakr960@gmail.com\"\n",
    "if is_valid_email(email_address):\n",
    "    print(\"The email address is valid.\")\n",
    "else:\n",
    "    print(\"The email address is not valid.\")\n"
   ]
  },
  {
   "cell_type": "code",
   "execution_count": 54,
   "id": "d6684e08-dfa7-4e7a-b4d9-6b82e914a073",
   "metadata": {},
   "outputs": [
    {
     "name": "stdout",
     "output_type": "stream",
     "text": [
      "Extracted username: chauhandiwakar960\n"
     ]
    }
   ],
   "source": [
    "def extract_username(email):\n",
    "    username = email.split('@')[0]\n",
    "    return username\n",
    "\n",
    "# Example usage\n",
    "email_address = \"chauhandiwakar960@gmail.com\"\n",
    "username = extract_username(email_address)\n",
    "print(\"Extracted username:\", username)\n"
   ]
  },
  {
   "cell_type": "code",
   "execution_count": 56,
   "id": "47e931fb-c899-484e-9054-5c731605e71d",
   "metadata": {},
   "outputs": [
    {
     "name": "stdout",
     "output_type": "stream",
     "text": [
      "Extracted domain: gmail.com\n"
     ]
    }
   ],
   "source": [
    "def extract_domain(email):\n",
    "    domain = email.split('@')[1]\n",
    "    return domain\n",
    "\n",
    "# Example usage\n",
    "email_address = \"chauhandiwakaR960@gmail.com\"\n",
    "domain = extract_domain(email_address)\n",
    "print(\"Extracted domain:\", domain)\n"
   ]
  },
  {
   "cell_type": "code",
   "execution_count": 58,
   "id": "0e522cf4-a2ce-4496-8b02-ccb614505f02",
   "metadata": {},
   "outputs": [
    {
     "name": "stdout",
     "output_type": "stream",
     "text": [
      "Hello there! How are you diwakar?\n"
     ]
    }
   ],
   "source": [
    "def replace_multiple_spaces(input_str):\n",
    "    cleaned_str = ' '.join(input_str.split())\n",
    "    return cleaned_str\n",
    "\n",
    "# Example usage\n",
    "input_string = \"Hello     there!   How    are   you diwakar?\"\n",
    "cleaned_string = replace_multiple_spaces(input_string)\n",
    "print(cleaned_string)\n"
   ]
  },
  {
   "cell_type": "code",
   "execution_count": 60,
   "id": "d6a03ca8-d66b-46b5-94aa-91bfcb551bea",
   "metadata": {},
   "outputs": [
    {
     "name": "stdout",
     "output_type": "stream",
     "text": [
      "The URL is valid.\n"
     ]
    }
   ],
   "source": [
    "from urllib.parse import urlparse\n",
    "\n",
    "def is_valid_url(url):\n",
    "    try:\n",
    "        result = urlparse(url)\n",
    "        return all([result.scheme, result.netloc])\n",
    "    except ValueError:\n",
    "        return False\n",
    "\n",
    "# Example usage\n",
    "url = \"https://www.pwskills.com\"\n",
    "if is_valid_url(url):\n",
    "    print(\"The URL is valid.\")\n",
    "else:\n",
    "    print(\"The URL is not valid.\")\n"
   ]
  },
  {
   "cell_type": "code",
   "execution_count": 62,
   "id": "6a254b5c-fc6d-4674-8435-45c14532a7ba",
   "metadata": {},
   "outputs": [
    {
     "name": "stdout",
     "output_type": "stream",
     "text": [
      "Extracted protocol: https\n"
     ]
    }
   ],
   "source": [
    "from urllib.parse import urlparse\n",
    "\n",
    "def extract_protocol(url):\n",
    "    result = urlparse(url)\n",
    "    protocol = result.scheme\n",
    "    return protocol\n",
    "\n",
    "# Example usage\n",
    "url = \"https://www.pwskills.com\"\n",
    "protocol = extract_protocol(url)\n",
    "print(\"Extracted protocol:\", protocol)\n"
   ]
  },
  {
   "cell_type": "code",
   "execution_count": 63,
   "id": "8cdf1835-a5c6-43f3-98c9-f1dbf3ab2aa1",
   "metadata": {},
   "outputs": [
    {
     "name": "stdout",
     "output_type": "stream",
     "text": [
      "Character 'h' occurs 1 times\n",
      "Character 'e' occurs 1 times\n",
      "Character 'l' occurs 3 times\n",
      "Character 'o' occurs 2 times\n",
      "Character ' ' occurs 1 times\n",
      "Character 'w' occurs 1 times\n",
      "Character 'r' occurs 1 times\n",
      "Character 'd' occurs 1 times\n"
     ]
    }
   ],
   "source": [
    "def character_frequency(input_str):\n",
    "    freq_dict = {}\n",
    "    for char in input_str:\n",
    "        if char in freq_dict:\n",
    "            freq_dict[char] += 1\n",
    "        else:\n",
    "            freq_dict[char] = 1\n",
    "    return freq_dict\n",
    "\n",
    "# Example usage\n",
    "input_string = \"hello world\"\n",
    "frequency = character_frequency(input_string)\n",
    "for char, count in frequency.items():\n",
    "    print(\"Character '{}' occurs {} times\".format(char, count))\n"
   ]
  },
  {
   "cell_type": "code",
   "execution_count": 65,
   "id": "faedc897-329b-410d-958d-04ca40f242f4",
   "metadata": {},
   "outputs": [
    {
     "name": "stdout",
     "output_type": "stream",
     "text": [
      "Hello how are you diwakar\n"
     ]
    }
   ],
   "source": [
    "import string\n",
    "\n",
    "def remove_punctuation(input_str):\n",
    "    no_punct_str = input_str.translate(str.maketrans('', '', string.punctuation))\n",
    "    return no_punct_str\n",
    "\n",
    "# Example usage\n",
    "input_string = \"Hello, how are you diwakar?\"\n",
    "no_punctuation_string = remove_punctuation(input_string)\n",
    "print(no_punctuation_string)\n"
   ]
  },
  {
   "cell_type": "code",
   "execution_count": 67,
   "id": "4246d936-7d2c-414a-823e-c55aea72abc5",
   "metadata": {},
   "outputs": [
    {
     "name": "stdout",
     "output_type": "stream",
     "text": [
      "The string contains only digits.\n"
     ]
    }
   ],
   "source": [
    "def contains_only_digits(input_str):\n",
    "    return input_str.isdigit()\n",
    "\n",
    "# Example usage\n",
    "input_string = \"123456\"\n",
    "if contains_only_digits(input_string):\n",
    "    print(\"The string contains only digits.\")\n",
    "else:\n",
    "    print(\"The string does not contain only digits.\")\n"
   ]
  },
  {
   "cell_type": "code",
   "execution_count": 69,
   "id": "ecc93cf2-2eb3-450c-99c8-ee40d8e7d43f",
   "metadata": {},
   "outputs": [
    {
     "name": "stdout",
     "output_type": "stream",
     "text": [
      "The string contains only alphabets.\n"
     ]
    }
   ],
   "source": [
    "def contains_only_alphabets(input_str):\n",
    "    return input_str.isalpha()\n",
    "\n",
    "# Example usage\n",
    "input_string = \"Hellodiwakar\"\n",
    "if contains_only_alphabets(input_string):\n",
    "    print(\"The string contains only alphabets.\")\n",
    "else:\n",
    "    print(\"The string does not contain only alphabets.\")\n"
   ]
  },
  {
   "cell_type": "code",
   "execution_count": 70,
   "id": "7befa10f-0462-4e88-9ded-6bb5a725b7cf",
   "metadata": {},
   "outputs": [
    {
     "name": "stdout",
     "output_type": "stream",
     "text": [
      "['H', 'e', 'l', 'l', 'o', ',', ' ', 'w', 'o', 'r', 'l', 'd', '!']\n"
     ]
    }
   ],
   "source": [
    "def string_to_characters(input_str):\n",
    "    char_list = list(input_str)\n",
    "    return char_list\n",
    "\n",
    "# Example usage\n",
    "input_string = \"Hello, world!\"\n",
    "character_list = string_to_characters(input_string)\n",
    "print(character_list)\n"
   ]
  },
  {
   "cell_type": "code",
   "execution_count": 72,
   "id": "e832e6f4-daac-405a-b10d-7d1bd29821e1",
   "metadata": {},
   "outputs": [
    {
     "name": "stdout",
     "output_type": "stream",
     "text": [
      "The strings are not anagrams.\n"
     ]
    }
   ],
   "source": [
    "def are_anagrams(str1, str2):\n",
    "    return sorted(str1) == sorted(str2)\n",
    "\n",
    "# Example usage\n",
    "string1 = \"diwakae\"\n",
    "string2 = \"chauhan\"\n",
    "if are_anagrams(string1, string2):\n",
    "    print(\"The strings are anagrams.\")\n",
    "else:\n",
    "    print(\"The strings are not anagrams.\")\n"
   ]
  },
  {
   "cell_type": "code",
   "execution_count": 75,
   "id": "7904073e-f100-4573-91fb-93ea4cdfb18c",
   "metadata": {},
   "outputs": [
    {
     "name": "stdout",
     "output_type": "stream",
     "text": [
      "Encoded string: Khoor, glzdndu!\n"
     ]
    }
   ],
   "source": [
    "def caesar_cipher_encode(input_str, shift):\n",
    "    encoded_str = ''\n",
    "    for char in input_str:\n",
    "        if char.isalpha():\n",
    "            if char.islower():\n",
    "                encoded_char = chr((ord(char) - ord('a' ) + shift) % 26 + ord('a'))\n",
    "            else:\n",
    "                encoded_char = chr((ord(char) - ord('A' ) + shift) % 26 + ord('A'))\n",
    "        else:\n",
    "            encoded_char = char\n",
    "        encoded_str += encoded_char\n",
    "    return encoded_str\n",
    "\n",
    "# Example usage\n",
    "input_string = \"Hello, diwakar!\"\n",
    "shift_amount = 3\n",
    "encoded_string = caesar_cipher_encode(input_string, shift_amount)\n",
    "print(\"Encoded string:\", encoded_string)\n"
   ]
  },
  {
   "cell_type": "code",
   "execution_count": 76,
   "id": "b3eb3528-0ad5-4d6a-a468-c6ee285227e5",
   "metadata": {},
   "outputs": [
    {
     "name": "stdout",
     "output_type": "stream",
     "text": [
      "Decoded string: Hello, world!\n"
     ]
    }
   ],
   "source": [
    "def caesar_cipher_decode(encoded_str, shift):\n",
    "    decoded_str = ''\n",
    "    for char in encoded_str:\n",
    "        if char.isalpha():\n",
    "            if char.islower():\n",
    "                decoded_char = chr((ord(char) - ord('a' ) - shift) % 26 + ord('a'))\n",
    "            else:\n",
    "                decoded_char = chr((ord(char) - ord('A' ) - shift) % 26 + ord('A'))\n",
    "        else:\n",
    "            decoded_char = char\n",
    "        decoded_str += decoded_char\n",
    "    return decoded_str\n",
    "\n",
    "# Example usage\n",
    "encoded_string = \"Khoor, zruog!\"\n",
    "shift_amount = 3\n",
    "decoded_string = caesar_cipher_decode(encoded_string, shift_amount)\n",
    "print(\"Decoded string:\", decoded_string)\n"
   ]
  },
  {
   "cell_type": "code",
   "execution_count": 78,
   "id": "7bbe8b2f-2341-496a-adb2-cebe8501dd50",
   "metadata": {},
   "outputs": [
    {
     "name": "stdout",
     "output_type": "stream",
     "text": [
      "The most frequent word is: This\n"
     ]
    }
   ],
   "source": [
    "from collections import Counter\n",
    "import re\n",
    "\n",
    "def most_frequent_word(input_str):\n",
    "    words = re.findall(r'\\b\\w+\\b', input_str)\n",
    "    word_count = Counter(words)\n",
    "    most_common_word = word_count.most_common(1)\n",
    "    return most_common_word[0][0] if most_common_word else None\n",
    "\n",
    "# Example usage\n",
    "input_string = \"This is a test. This is only a test mr diwakar.\"\n",
    "most_common_word = most_frequent_word(input_string)\n",
    "if most_common_word:\n",
    "    print(\"The most frequent word is:\", most_common_word)\n",
    "else:\n",
    "    print(\"No words found in the string.\")\n"
   ]
  },
  {
   "cell_type": "code",
   "execution_count": 82,
   "id": "fc1877ff-8484-4525-a168-e72284e29f22",
   "metadata": {},
   "outputs": [
    {
     "name": "stdout",
     "output_type": "stream",
     "text": [
      "Unique words: ['test', 'is', 'This', 'only', 'a']\n"
     ]
    }
   ],
   "source": [
    "import re\n",
    "\n",
    "def unique_words(input_str):\n",
    "    words = re.findall(r'\\b\\w+\\b', input_str)\n",
    "    unique_words_set = set(words)\n",
    "    return list(unique_words_set)\n",
    "\n",
    "# Example usage\n",
    "input_string = \"This is a test. This is only a test.\"\n",
    "unique_word_list = unique_words(input_string)\n",
    "print(\"Unique words:\", unique_word_list)\n"
   ]
  },
  {
   "cell_type": "code",
   "execution_count": 83,
   "id": "f1ba67d6-451f-48ec-8bb8-acc8afe05df7",
   "metadata": {},
   "outputs": [
    {
     "name": "stdout",
     "output_type": "stream",
     "text": [
      "Total syllables: 5\n"
     ]
    }
   ],
   "source": [
    "def count_syllables(word):\n",
    "    vowels = \"aeiouyAEIOUY\"\n",
    "    count = 0\n",
    "    in_vowel = False\n",
    "\n",
    "    for char in word:\n",
    "        if char in vowels:\n",
    "            if not in_vowel:\n",
    "                count += 1\n",
    "                in_vowel = True\n",
    "        else:\n",
    "            in_vowel = False\n",
    "\n",
    "    if word.lower().endswith(\"e\"):\n",
    "        count -= 1\n",
    "    if count == 0:\n",
    "        count = 1\n",
    "\n",
    "    return count\n",
    "\n",
    "def count_total_syllables(input_str):\n",
    "    words = input_str.split()\n",
    "    total_syllables = sum(count_syllables(word) for word in words)\n",
    "    return total_syllables\n",
    "\n",
    "# Example usage\n",
    "input_string = \"Hello, how are you?\"\n",
    "syllable_count = count_total_syllables(input_string)\n",
    "print(\"Total syllables:\", syllable_count)\n"
   ]
  },
  {
   "cell_type": "code",
   "execution_count": 86,
   "id": "646aed7e-9149-49d1-bb60-7a8c68c0a0c9",
   "metadata": {},
   "outputs": [
    {
     "name": "stdout",
     "output_type": "stream",
     "text": [
      "The string contains special characters.\n"
     ]
    }
   ],
   "source": [
    "def contains_special_characters(input_str):\n",
    "    special_characters = \"!@#$%^&*()_+[]{}|;':\\\",.<>?/\"\n",
    "    for char in input_str:\n",
    "        if char in special_characters:\n",
    "            return True\n",
    "    return False\n",
    "\n",
    "# Example usage\n",
    "input_string = \"Hello, how are you?\"\n",
    "if contains_special_characters(input_string):\n",
    "    print(\"The string contains special characters.\")\n",
    "else:\n",
    "    print(\"The string does not contain special characters.\")\n"
   ]
  },
  {
   "cell_type": "code",
   "execution_count": 88,
   "id": "888ea2d8-d8c0-4ec1-b814-5bdd43b17636",
   "metadata": {},
   "outputs": [
    {
     "name": "stdout",
     "output_type": "stream",
     "text": [
      "Hello, how you today diwakar chauhan?\n"
     ]
    }
   ],
   "source": [
    "def remove_nth_word(input_str, n):\n",
    "    words = input_str.split()\n",
    "    if 1 <= n <= len(words):\n",
    "        del words[n - 1]\n",
    "        new_string = ' '.join(words)\n",
    "        return new_string\n",
    "    else:\n",
    "        return input_str\n",
    "\n",
    "# Example usage\n",
    "input_string = \"Hello, how are you today diwakar chauhan?\"\n",
    "nth_word_index = 3\n",
    "modified_string = remove_nth_word(input_string, nth_word_index)\n",
    "print(modified_string)\n"
   ]
  },
  {
   "cell_type": "code",
   "execution_count": 90,
   "id": "9c3ba18d-a9b8-4830-bf7c-ea115e532de7",
   "metadata": {},
   "outputs": [
    {
     "name": "stdout",
     "output_type": "stream",
     "text": [
      "Hello, how doing are you today diwakar?\n"
     ]
    }
   ],
   "source": [
    "def insert_word(input_str, n, word_to_insert):\n",
    "    words = input_str.split()\n",
    "    if 0 <= n <= len(words):\n",
    "        words.insert(n, word_to_insert)\n",
    "        new_string = ' '.join(words)\n",
    "        return new_string\n",
    "    else:\n",
    "        return input_str\n",
    "\n",
    "# Example usage\n",
    "input_string = \"Hello, how are you today diwakar?\"\n",
    "nth_position = 2\n",
    "word_to_insert = \"doing\"\n",
    "modified_string = insert_word(input_string, nth_position, word_to_insert)\n",
    "print(modified_string)\n"
   ]
  },
  {
   "cell_type": "code",
   "execution_count": 91,
   "id": "e322021d-5431-4079-96bb-85725b92afa2",
   "metadata": {},
   "outputs": [
    {
     "name": "stdout",
     "output_type": "stream",
     "text": [
      "['John', 'Doe', '30']\n",
      "['Jane', 'Smith', '25']\n",
      "['Alice', 'Johnson', '28']\n"
     ]
    }
   ],
   "source": [
    "import csv\n",
    "from io import StringIO\n",
    "\n",
    "def csv_string_to_list(csv_str):\n",
    "    csv_data = StringIO(csv_str)\n",
    "    reader = csv.reader(csv_data)\n",
    "    csv_list = [row for row in reader]\n",
    "    return csv_list\n",
    "\n",
    "# Example usage\n",
    "csv_string = \"John,Doe,30\\nJane,Smith,25\\nAlice,Johnson,28\"\n",
    "csv_list = csv_string_to_list(csv_string)\n",
    "for row in csv_list:\n",
    "    print(row)\n"
   ]
  },
  {
   "cell_type": "code",
   "execution_count": 92,
   "id": "59fb3bff-729e-44b9-9b90-42490a2e4c3d",
   "metadata": {},
   "outputs": [],
   "source": [
    "#List Based Practice Problem"
   ]
  },
  {
   "cell_type": "code",
   "execution_count": 93,
   "id": "dcb6bc48-5bd0-4fcd-a6ac-b4cc88b1a817",
   "metadata": {},
   "outputs": [
    {
     "name": "stdout",
     "output_type": "stream",
     "text": [
      "[1, 2, 3, 4, 5, 6, 7, 8, 9, 10]\n"
     ]
    }
   ],
   "source": [
    "integer_list = list(range(1, 11))\n",
    "print(integer_list)\n"
   ]
  },
  {
   "cell_type": "code",
   "execution_count": 94,
   "id": "0e5ac67f-5b4f-4705-8704-e41d6e5b715d",
   "metadata": {},
   "outputs": [
    {
     "name": "stdout",
     "output_type": "stream",
     "text": [
      "Length of the list: 5\n"
     ]
    }
   ],
   "source": [
    "def get_list_length(input_list):\n",
    "    count = 0\n",
    "    for _ in input_list:\n",
    "        count += 1\n",
    "    return count\n",
    "\n",
    "# Example usage\n",
    "my_list = [1, 2, 3, 4, 5]\n",
    "length = get_list_length(my_list)\n",
    "print(\"Length of the list:\", length)\n"
   ]
  },
  {
   "cell_type": "code",
   "execution_count": 95,
   "id": "952d33aa-867f-4293-b7ed-42f40455fc3b",
   "metadata": {},
   "outputs": [
    {
     "name": "stdout",
     "output_type": "stream",
     "text": [
      "[1, 2, 3, 4, 5, 6]\n"
     ]
    }
   ],
   "source": [
    "my_list = [1, 2, 3, 4, 5]\n",
    "element_to_append = 6\n",
    "\n",
    "my_list.append(element_to_append)\n",
    "print(my_list)\n"
   ]
  },
  {
   "cell_type": "code",
   "execution_count": 96,
   "id": "5f77550b-f486-4b4b-85c6-dc4a9d37f218",
   "metadata": {},
   "outputs": [
    {
     "name": "stdout",
     "output_type": "stream",
     "text": [
      "[1, 2, 6, 3, 4, 5]\n"
     ]
    }
   ],
   "source": [
    "my_list = [1, 2, 3, 4, 5]\n",
    "element_to_insert = 6\n",
    "index_to_insert = 2\n",
    "\n",
    "my_list.insert(index_to_insert, element_to_insert)\n",
    "print(my_list)\n"
   ]
  },
  {
   "cell_type": "code",
   "execution_count": 98,
   "id": "d16295be-9257-429b-be3e-35035571f4f1",
   "metadata": {},
   "outputs": [
    {
     "name": "stdout",
     "output_type": "stream",
     "text": [
      "Element removed: 5\n",
      "[1, 2, 3, 4]\n"
     ]
    }
   ],
   "source": [
    "my_list = [1, 2, 3, 4, 5]\n",
    "element_to_remove = 5\n",
    "\n",
    "if element_to_remove in my_list:\n",
    "    my_list.remove(element_to_remove)\n",
    "    print(\"Element removed:\", element_to_remove)\n",
    "else:\n",
    "    print(\"Element not found in the list.\")\n",
    "\n",
    "print(my_list)\n"
   ]
  },
  {
   "cell_type": "code",
   "execution_count": 99,
   "id": "92a914a0-e66e-4d8c-9a45-384624b0766e",
   "metadata": {},
   "outputs": [
    {
     "name": "stdout",
     "output_type": "stream",
     "text": [
      "Removed element: 3\n",
      "[1, 2, 4, 5]\n"
     ]
    }
   ],
   "source": [
    "my_list = [1, 2, 3, 4, 5]\n",
    "index_to_remove = 2\n",
    "\n",
    "if 0 <= index_to_remove < len(my_list):\n",
    "    removed_element = my_list.pop(index_to_remove)\n",
    "    print(\"Removed element:\", removed_element)\n",
    "else:\n",
    "    print(\"Invalid index.\")\n",
    "\n",
    "print(my_list)\n"
   ]
  },
  {
   "cell_type": "code",
   "execution_count": 100,
   "id": "95ec5b1a-fe69-49a7-809b-db5627aedbd6",
   "metadata": {},
   "outputs": [
    {
     "name": "stdout",
     "output_type": "stream",
     "text": [
      "Element exists in the list.\n"
     ]
    }
   ],
   "source": [
    "my_list = [1, 2, 3, 4, 5]\n",
    "element_to_check = 3\n",
    "\n",
    "if element_to_check in my_list:\n",
    "    print(\"Element exists in the list.\")\n",
    "else:\n",
    "    print(\"Element does not exist in the list.\")\n"
   ]
  },
  {
   "cell_type": "code",
   "execution_count": 103,
   "id": "9c533a24-7ac8-4394-9191-fc35e59b5c37",
   "metadata": {},
   "outputs": [
    {
     "name": "stdout",
     "output_type": "stream",
     "text": [
      "Index of the element: 2\n"
     ]
    }
   ],
   "source": [
    "my_list = [10, 20, 30, 40, 50,60,70,80,90]\n",
    "element_to_find = 30\n",
    "\n",
    "if element_to_find in my_list:\n",
    "    index = my_list.index(element_to_find)\n",
    "    print(\"Index of the element:\", index)\n",
    "else:\n",
    "    print(\"Element not found in the list.\")\n"
   ]
  },
  {
   "cell_type": "code",
   "execution_count": 105,
   "id": "a54c3e37-559c-4ea2-ab3e-7040828f23a6",
   "metadata": {},
   "outputs": [
    {
     "name": "stdout",
     "output_type": "stream",
     "text": [
      "Occurrences of the element: 3\n"
     ]
    }
   ],
   "source": [
    "my_list = [10, 20, 30, 20, 40, 20, 50,100,1000,1230]\n",
    "element_to_count = 20\n",
    "\n",
    "count = my_list.count(element_to_count)\n",
    "print(\"Occurrences of the element:\", count)\n"
   ]
  },
  {
   "cell_type": "code",
   "execution_count": 106,
   "id": "9b55425e-b055-4a55-b40b-04d1f744c738",
   "metadata": {},
   "outputs": [
    {
     "name": "stdout",
     "output_type": "stream",
     "text": [
      "[5, 4, 3, 2, 1]\n"
     ]
    }
   ],
   "source": [
    "my_list = [1, 2, 3, 4, 5]\n",
    "my_list.reverse()\n",
    "print(my_list)\n"
   ]
  },
  {
   "cell_type": "code",
   "execution_count": 107,
   "id": "0389f2ac-da0b-484d-948d-88bc5fdb85b6",
   "metadata": {},
   "outputs": [
    {
     "name": "stdout",
     "output_type": "stream",
     "text": [
      "[1, 2, 3, 5, 8]\n"
     ]
    }
   ],
   "source": [
    "my_list = [5, 2, 8, 1, 3]\n",
    "my_list.sort()\n",
    "print(my_list)\n"
   ]
  },
  {
   "cell_type": "code",
   "execution_count": 108,
   "id": "633dba93-9b5d-49c4-b3f7-5ddf01e95409",
   "metadata": {},
   "outputs": [
    {
     "name": "stdout",
     "output_type": "stream",
     "text": [
      "[8, 5, 3, 2, 1]\n"
     ]
    }
   ],
   "source": [
    "my_list = [5, 2, 8, 1, 3]\n",
    "sorted_list = sorted(my_list, reverse=True)\n",
    "print(sorted_list)\n"
   ]
  },
  {
   "cell_type": "code",
   "execution_count": 111,
   "id": "5ebe7cc4-57c8-45e6-8f4a-f37f404a5c67",
   "metadata": {},
   "outputs": [
    {
     "name": "stdout",
     "output_type": "stream",
     "text": [
      "[2, 4, 6, 8, 10, 12, 14, 16, 18, 20, 22]\n"
     ]
    }
   ],
   "source": [
    "even_numbers = [x for x in range(2, 23, 2)]\n",
    "print(even_numbers)\n"
   ]
  },
  {
   "cell_type": "code",
   "execution_count": 112,
   "id": "8eb166d1-360f-44fc-9481-bb792760a141",
   "metadata": {},
   "outputs": [
    {
     "name": "stdout",
     "output_type": "stream",
     "text": [
      "[1, 3, 5, 7, 9, 11, 13, 15, 17, 19, 21, 23, 25, 27, 29, 31, 33, 35, 37, 39, 41, 43, 45, 47, 49]\n"
     ]
    }
   ],
   "source": [
    "odd_numbers = [x for x in range(1, 51, 2)]\n",
    "print(odd_numbers)\n"
   ]
  },
  {
   "cell_type": "code",
   "execution_count": 114,
   "id": "f5de6799-94fb-46d1-b3b6-6046fc449be1",
   "metadata": {},
   "outputs": [
    {
     "name": "stdout",
     "output_type": "stream",
     "text": [
      "Sum of elements: 45\n"
     ]
    }
   ],
   "source": [
    "my_list = [1, 2, 3, 4, 5,6,7,8,9]\n",
    "sum_of_elements = sum(my_list)\n",
    "print(\"Sum of elements:\", sum_of_elements)\n"
   ]
  },
  {
   "cell_type": "code",
   "execution_count": 115,
   "id": "3551ff5f-4d61-4fe7-8e52-4d77d05cbb04",
   "metadata": {},
   "outputs": [
    {
     "name": "stdout",
     "output_type": "stream",
     "text": [
      "Maximum value: 20\n"
     ]
    }
   ],
   "source": [
    "my_list = [10, 5, 20, 8, 15]\n",
    "max_value = max(my_list)\n",
    "print(\"Maximum value:\", max_value)\n"
   ]
  },
  {
   "cell_type": "code",
   "execution_count": 117,
   "id": "e3758f0b-10cc-4d7b-9d17-36a7b546f1f6",
   "metadata": {},
   "outputs": [
    {
     "name": "stdout",
     "output_type": "stream",
     "text": [
      "Minimum value: 5\n"
     ]
    }
   ],
   "source": [
    "my_list = [10, 5, 20, 8, 15,25,35,656]\n",
    "min_value = min(my_list)\n",
    "print(\"Minimum value:\", min_value)\n"
   ]
  },
  {
   "cell_type": "code",
   "execution_count": 122,
   "id": "27a18ec2-64a4-4d7f-a79c-3cda95b9a6f8",
   "metadata": {},
   "outputs": [
    {
     "name": "stdout",
     "output_type": "stream",
     "text": [
      "[1, 4, 9, 16, 25, 36, 49, 64, 81, 100, 121, 144, 169, 196]\n"
     ]
    }
   ],
   "source": [
    "squares = [x ** 2 for x in range(1, 15)]\n",
    "print(squares)\n"
   ]
  },
  {
   "cell_type": "code",
   "execution_count": 121,
   "id": "b27c3d4a-ad8a-43b4-9877-8977a9ab0157",
   "metadata": {},
   "outputs": [
    {
     "name": "stdout",
     "output_type": "stream",
     "text": [
      "[123, 14, 105, 18, 140, 133, 1, 37, 7, 97, 49, 71, 94, 59, 128]\n"
     ]
    }
   ],
   "source": [
    "import random\n",
    "\n",
    "random_numbers = [random.randint(1, 150) for _ in range(15)]\n",
    "print(random_numbers)\n"
   ]
  },
  {
   "cell_type": "code",
   "execution_count": 124,
   "id": "1d9e822d-071c-407d-8e85-cd8d915122d5",
   "metadata": {},
   "outputs": [
    {
     "name": "stdout",
     "output_type": "stream",
     "text": [
      "[1, 2, 3, 4, 5, 6, 7]\n"
     ]
    }
   ],
   "source": [
    "my_list = [1, 2, 2, 3, 4, 4, 5, 5,6,6,7,7]\n",
    "unique_list = list(set(my_list))\n",
    "print(unique_list)\n"
   ]
  },
  {
   "cell_type": "code",
   "execution_count": 126,
   "id": "00382ab5-67cc-478a-8f89-a3ad9544f373",
   "metadata": {},
   "outputs": [
    {
     "name": "stdout",
     "output_type": "stream",
     "text": [
      "[3, 4, 5, 6, 7]\n"
     ]
    }
   ],
   "source": [
    "list1 = [1, 2, 3, 4, 5,6,7]\n",
    "list2 = [3, 4, 5, 6, 7,8,9]\n",
    "\n",
    "common_elements = list(set(list1).intersection(list2))\n",
    "print(common_elements)\n"
   ]
  },
  {
   "cell_type": "code",
   "execution_count": 128,
   "id": "fdc484af-ec56-4386-b1e2-efe36d231045",
   "metadata": {},
   "outputs": [
    {
     "name": "stdout",
     "output_type": "stream",
     "text": [
      "[1, 2, 6, 7, 9]\n"
     ]
    }
   ],
   "source": [
    "list1 = [1, 2, 3, 4, 5]\n",
    "list2 = [3, 4, 5, 6, 7,9]\n",
    "\n",
    "difference_list = list(set(list1).symmetric_difference(list2))\n",
    "print(difference_list)\n"
   ]
  },
  {
   "cell_type": "code",
   "execution_count": 130,
   "id": "6ec9d72f-6d85-4102-a24c-fdbb306db05d",
   "metadata": {},
   "outputs": [
    {
     "name": "stdout",
     "output_type": "stream",
     "text": [
      "[1, 2, 3, 4, 4, 5, 6, 7, 8, 9]\n"
     ]
    }
   ],
   "source": [
    "list1 = [1, 2, 3,4]\n",
    "list2 = [4, 5, 6,7,8,9]\n",
    "\n",
    "merged_list = list1 + list2\n",
    "print(merged_list)\n"
   ]
  },
  {
   "cell_type": "code",
   "execution_count": 132,
   "id": "b03f7c13-bbcf-44ba-97b9-09747e0ac6b4",
   "metadata": {},
   "outputs": [
    {
     "name": "stdout",
     "output_type": "stream",
     "text": [
      "[2, 4, 6, 8, 10, 12, 14, 16, 18]\n"
     ]
    }
   ],
   "source": [
    "my_list = [1, 2, 3, 4, 5,6,7,8,9]\n",
    "doubled_list = [x * 2 for x in my_list]\n",
    "print(doubled_list)\n"
   ]
  },
  {
   "cell_type": "code",
   "execution_count": 133,
   "id": "cea0f280-4e52-4d16-acd0-b5cd81b7ff2b",
   "metadata": {},
   "outputs": [
    {
     "name": "stdout",
     "output_type": "stream",
     "text": [
      "[1, 3, 5, 7, 9]\n"
     ]
    }
   ],
   "source": [
    "my_list = [1, 2, 3, 4, 5, 6, 7, 8, 9, 10]\n",
    "filtered_list = [x for x in my_list if x % 2 != 0]\n",
    "print(filtered_list)\n"
   ]
  },
  {
   "cell_type": "code",
   "execution_count": 136,
   "id": "f609869a-8778-4948-b5d6-b1ff907a83be",
   "metadata": {},
   "outputs": [
    {
     "name": "stdout",
     "output_type": "stream",
     "text": [
      "[1, 2, 3, 4, 5, 6]\n"
     ]
    }
   ],
   "source": [
    "string_list = [\"1\", \"2\", \"3\", \"4\", \"5\",\"6\"]\n",
    "integer_list = [int(x) for x in string_list]\n",
    "print(integer_list)\n"
   ]
  },
  {
   "cell_type": "code",
   "execution_count": 137,
   "id": "1cfebecc-3040-448f-9021-5a89aa0bd1f3",
   "metadata": {},
   "outputs": [
    {
     "name": "stdout",
     "output_type": "stream",
     "text": [
      "['1', '2', '3', '4', '5', '6', '7']\n"
     ]
    }
   ],
   "source": [
    "integer_list = [1, 2, 3, 4, 5,6,7]\n",
    "string_list = [str(x) for x in integer_list]\n",
    "print(string_list)\n"
   ]
  },
  {
   "cell_type": "code",
   "execution_count": 139,
   "id": "253e2e8b-0155-4fb5-8f12-1f7e265f704b",
   "metadata": {},
   "outputs": [
    {
     "name": "stdout",
     "output_type": "stream",
     "text": [
      "[1, 2, 3, 4, 5, 6, 7, 8, 9, 10, 11, 12]\n"
     ]
    }
   ],
   "source": [
    "nested_list = [[1, 2, 3], [4, 5], [6, 7, 8,9,10,11,12]]\n",
    "flattened_list = [item for sublist in nested_list for item in sublist]\n",
    "print(flattened_list)\n"
   ]
  },
  {
   "cell_type": "code",
   "execution_count": 140,
   "id": "25158589-81cd-4811-968d-9299fe22a13b",
   "metadata": {},
   "outputs": [
    {
     "name": "stdout",
     "output_type": "stream",
     "text": [
      "[0, 1, 1, 2, 3, 5, 8, 13, 21, 34]\n"
     ]
    }
   ],
   "source": [
    "fibonacci_list = [0, 1]\n",
    "while len(fibonacci_list) < 10:\n",
    "    next_fibonacci = fibonacci_list[-1] + fibonacci_list[-2]\n",
    "    fibonacci_list.append(next_fibonacci)\n",
    "\n",
    "print(fibonacci_list)\n"
   ]
  },
  {
   "cell_type": "code",
   "execution_count": 141,
   "id": "191c2311-78fe-408c-a9fb-09c94767c87b",
   "metadata": {},
   "outputs": [
    {
     "name": "stdout",
     "output_type": "stream",
     "text": [
      "True\n",
      "False\n"
     ]
    }
   ],
   "source": [
    "def is_sorted(input_list):\n",
    "    return all(input_list[i] <= input_list[i + 1] for i in range(len(input_list) - 1))\n",
    "\n",
    "my_list = [1, 3, 5, 7, 9]\n",
    "print(is_sorted(my_list))  # True\n",
    "\n",
    "my_unsorted_list = [9, 3, 5, 7, 1]\n",
    "print(is_sorted(my_unsorted_list))  # False\n"
   ]
  },
  {
   "cell_type": "code",
   "execution_count": 142,
   "id": "3a71ade1-793f-4439-a677-16c207fdacb6",
   "metadata": {},
   "outputs": [
    {
     "name": "stdout",
     "output_type": "stream",
     "text": [
      "[3, 4, 5, 1, 2]\n"
     ]
    }
   ],
   "source": [
    "def rotate_left(input_list, n):\n",
    "    n = n % len(input_list)  # Handle cases where n is larger than the list length\n",
    "    rotated_list = input_list[n:] + input_list[:n]\n",
    "    return rotated_list\n",
    "\n",
    "my_list = [1, 2, 3, 4, 5]\n",
    "rotated = rotate_left(my_list, 2)\n",
    "print(rotated)\n"
   ]
  },
  {
   "cell_type": "code",
   "execution_count": 144,
   "id": "7d820807-71f8-4089-920a-30ecb81c756d",
   "metadata": {},
   "outputs": [
    {
     "name": "stdout",
     "output_type": "stream",
     "text": [
      "[6, 7, 1, 2, 3, 4, 5]\n"
     ]
    }
   ],
   "source": [
    "def rotate_right(input_list, n):\n",
    "    n = n % len(input_list)  # Handle cases where n is larger than the list length\n",
    "    rotated_list = input_list[-n:] + input_list[:-n]\n",
    "    return rotated_list\n",
    "\n",
    "my_list = [1, 2, 3, 4, 5,6,7]\n",
    "rotated = rotate_right(my_list, 2)\n",
    "print(rotated)\n"
   ]
  },
  {
   "cell_type": "code",
   "execution_count": 145,
   "id": "4efe134a-f35d-4f77-a169-36c088b68328",
   "metadata": {},
   "outputs": [
    {
     "name": "stdout",
     "output_type": "stream",
     "text": [
      "[2, 3, 5, 7, 11, 13, 17, 19, 23, 29, 31, 37, 41, 43, 47]\n"
     ]
    }
   ],
   "source": [
    "def is_prime(number):\n",
    "    if number <= 1:\n",
    "        return False\n",
    "    for i in range(2, int(number**0.5) + 1):\n",
    "        if number % i == 0:\n",
    "            return False\n",
    "    return True\n",
    "\n",
    "prime_list = [num for num in range(2, 51) if is_prime(num)]\n",
    "print(prime_list)\n"
   ]
  },
  {
   "cell_type": "code",
   "execution_count": 146,
   "id": "1d3956c4-3e32-4048-97cc-5522bdf1fe63",
   "metadata": {},
   "outputs": [
    {
     "name": "stdout",
     "output_type": "stream",
     "text": [
      "[[1, 2, 3], [4, 5, 6], [7, 8, 9], [10]]\n"
     ]
    }
   ],
   "source": [
    "def split_into_chunks(input_list, n):\n",
    "    return [input_list[i:i + n] for i in range(0, len(input_list), n)]\n",
    "\n",
    "my_list = [1, 2, 3, 4, 5, 6, 7, 8, 9, 10]\n",
    "chunked_list = split_into_chunks(my_list, 3)\n",
    "print(chunked_list)\n"
   ]
  },
  {
   "cell_type": "code",
   "execution_count": 148,
   "id": "fa28a174-cb76-4fef-93a5-894295a2eadf",
   "metadata": {},
   "outputs": [
    {
     "name": "stdout",
     "output_type": "stream",
     "text": [
      "Second largest number: 20\n"
     ]
    }
   ],
   "source": [
    "my_list = [10, 5, 20, 8, 15,20]\n",
    "sorted_list = sorted(my_list)\n",
    "second_largest = sorted_list[-2]\n",
    "print(\"Second largest number:\", second_largest)\n"
   ]
  },
  {
   "cell_type": "code",
   "execution_count": 150,
   "id": "2cdc2b22-602a-47fa-8b2a-309fc2aa1056",
   "metadata": {},
   "outputs": [
    {
     "name": "stdout",
     "output_type": "stream",
     "text": [
      "[1, 4, 9, 16, 25, 49]\n"
     ]
    }
   ],
   "source": [
    "my_list = [1, 2, 3, 4, 5,7]\n",
    "squared_list = [x ** 2 for x in my_list]\n",
    "print(squared_list)\n"
   ]
  },
  {
   "cell_type": "code",
   "execution_count": 151,
   "id": "7fe66bc5-1828-4756-b032-ed250a29dd61",
   "metadata": {},
   "outputs": [
    {
     "name": "stdout",
     "output_type": "stream",
     "text": [
      "{'apple': 0, 'banana': 1, 'cherry': 2, 'date': 3}\n"
     ]
    }
   ],
   "source": [
    "my_list = [\"apple\", \"banana\", \"cherry\", \"date\"]\n",
    "dictionary = {value: index for index, value in enumerate(my_list)}\n",
    "print(dictionary)\n"
   ]
  },
  {
   "cell_type": "code",
   "execution_count": 153,
   "id": "4b75b34d-0257-492c-b15d-2ca5d59a027f",
   "metadata": {},
   "outputs": [
    {
     "name": "stdout",
     "output_type": "stream",
     "text": [
      "[5, 9, 8, 3, 2, 7, 1, 4, 6]\n"
     ]
    }
   ],
   "source": [
    "import random\n",
    "\n",
    "my_list = [1, 2, 3, 4, 5,6,7,8,9,]\n",
    "random.shuffle(my_list)\n",
    "print(my_list)\n"
   ]
  },
  {
   "cell_type": "code",
   "execution_count": 154,
   "id": "84467cc7-1cfd-4644-9dc3-589853311313",
   "metadata": {},
   "outputs": [
    {
     "name": "stdout",
     "output_type": "stream",
     "text": [
      "[1, 1, 2, 6, 24, 120, 720, 5040, 40320, 362880]\n"
     ]
    }
   ],
   "source": [
    "def factorial(n):\n",
    "    if n == 0:\n",
    "        return 1\n",
    "    else:\n",
    "        return n * factorial(n - 1)\n",
    "\n",
    "factorial_list = [factorial(x) for x in range(10)]\n",
    "print(factorial_list)\n"
   ]
  },
  {
   "cell_type": "code",
   "execution_count": 155,
   "id": "432a15c6-0df4-44f1-bc40-3affbf186aa0",
   "metadata": {},
   "outputs": [
    {
     "name": "stdout",
     "output_type": "stream",
     "text": [
      "True\n"
     ]
    }
   ],
   "source": [
    "list1 = [1, 2, 3, 4, 5]\n",
    "list2 = [5, 6, 7, 8, 9]\n",
    "\n",
    "has_common_element = any(x in list2 for x in list1)\n",
    "print(has_common_element)\n"
   ]
  },
  {
   "cell_type": "code",
   "execution_count": 156,
   "id": "c8ac0fb7-c797-4733-8c89-d4ce04e66230",
   "metadata": {},
   "outputs": [
    {
     "name": "stdout",
     "output_type": "stream",
     "text": [
      "[]\n"
     ]
    }
   ],
   "source": [
    "my_list = [1, 2, 3, 4, 5]\n",
    "my_list.clear()\n",
    "print(my_list)\n"
   ]
  },
  {
   "cell_type": "code",
   "execution_count": 157,
   "id": "154d2e5d-ba46-43bd-8e9b-df6842453644",
   "metadata": {},
   "outputs": [
    {
     "name": "stdout",
     "output_type": "stream",
     "text": [
      "[1, 0, 3, 0, 5, 0]\n"
     ]
    }
   ],
   "source": [
    "my_list = [1, -2, 3, -4, 5, -6]\n",
    "non_negative_list = [x if x >= 0 else 0 for x in my_list]\n",
    "print(non_negative_list)\n"
   ]
  },
  {
   "cell_type": "code",
   "execution_count": 158,
   "id": "34b28246-89b6-446d-acd9-4da6b6e0a2f1",
   "metadata": {},
   "outputs": [
    {
     "name": "stdout",
     "output_type": "stream",
     "text": [
      "['This', 'is', 'a', 'sample', 'sentence.']\n"
     ]
    }
   ],
   "source": [
    "sentence = \"This is a sample sentence.\"\n",
    "word_list = sentence.split()\n",
    "print(word_list)\n"
   ]
  },
  {
   "cell_type": "code",
   "execution_count": 159,
   "id": "4bdd9684-febe-45b3-9c2b-08b052116132",
   "metadata": {},
   "outputs": [
    {
     "name": "stdout",
     "output_type": "stream",
     "text": [
      "This is a sample sentence.\n"
     ]
    }
   ],
   "source": [
    "word_list = ['This', 'is', 'a', 'sample', 'sentence.']\n",
    "sentence = ' '.join(word_list)\n",
    "print(sentence)\n"
   ]
  },
  {
   "cell_type": "code",
   "execution_count": 160,
   "id": "848c1740-469f-472e-8199-a52a906ba2b9",
   "metadata": {},
   "outputs": [
    {
     "name": "stdout",
     "output_type": "stream",
     "text": [
      "[1, 2, 4, 8, 16]\n"
     ]
    }
   ],
   "source": [
    "n = 5\n",
    "powers_of_2 = [2 ** i for i in range(n)]\n",
    "print(powers_of_2)\n"
   ]
  },
  {
   "cell_type": "code",
   "execution_count": 161,
   "id": "debd16e6-a930-49fd-8002-ef6aa5e980a5",
   "metadata": {},
   "outputs": [
    {
     "name": "stdout",
     "output_type": "stream",
     "text": [
      "banana\n"
     ]
    }
   ],
   "source": [
    "string_list = ['apple', 'banana', 'cherry', 'date', 'grape']\n",
    "longest_string = max(string_list, key=len)\n",
    "print(longest_string)\n"
   ]
  },
  {
   "cell_type": "code",
   "execution_count": 162,
   "id": "8c59f3a3-098b-44a0-bf9c-921aab5ccd9f",
   "metadata": {},
   "outputs": [
    {
     "name": "stdout",
     "output_type": "stream",
     "text": [
      "date\n"
     ]
    }
   ],
   "source": [
    "string_list = ['apple', 'banana', 'cherry', 'date', 'grape']\n",
    "shortest_string = min(string_list, key=len)\n",
    "print(shortest_string)\n"
   ]
  },
  {
   "cell_type": "code",
   "execution_count": 163,
   "id": "837c49bb-5ba2-48c8-b950-324fdae1e5d4",
   "metadata": {},
   "outputs": [
    {
     "name": "stdout",
     "output_type": "stream",
     "text": [
      "[1, 3, 6, 10, 15]\n"
     ]
    }
   ],
   "source": [
    "n = 5\n",
    "triangular_numbers = [i * (i + 1) // 2 for i in range(1, n + 1)]\n",
    "print(triangular_numbers)\n"
   ]
  },
  {
   "cell_type": "code",
   "execution_count": 164,
   "id": "f6e43c0c-a51e-4cf5-b291-78d61c0fdc0a",
   "metadata": {},
   "outputs": [
    {
     "name": "stdout",
     "output_type": "stream",
     "text": [
      "True\n"
     ]
    }
   ],
   "source": [
    "def contains_subsequence(main_list, sub_list):\n",
    "    sub_len = len(sub_list)\n",
    "    for i in range(len(main_list) - sub_len + 1):\n",
    "        if main_list[i:i + sub_len] == sub_list:\n",
    "            return True\n",
    "    return False\n",
    "\n",
    "list1 = [1, 2, 3, 4, 5, 6, 7, 8]\n",
    "list2 = [3, 4, 5]\n",
    "\n",
    "print(contains_subsequence(list1, list2))  # True\n"
   ]
  },
  {
   "cell_type": "code",
   "execution_count": 165,
   "id": "efe27057-7c59-4aaf-960e-d9279bafadb8",
   "metadata": {},
   "outputs": [
    {
     "name": "stdout",
     "output_type": "stream",
     "text": [
      "[1, 4, 3, 2, 5]\n"
     ]
    }
   ],
   "source": [
    "def swap_elements(input_list, index1, index2):\n",
    "    input_list[index1], input_list[index2] = input_list[index2], input_list[index1]\n",
    "\n",
    "my_list = [1, 2, 3, 4, 5]\n",
    "swap_elements(my_list, 1, 3)\n",
    "print(my_list)\n"
   ]
  },
  {
   "cell_type": "code",
   "execution_count": 173,
   "id": "a424fce4-008f-4d4e-a521-7e99090b3fc1",
   "metadata": {},
   "outputs": [],
   "source": [
    "#Tuple Based Practice Problem Answer:"
   ]
  },
  {
   "cell_type": "code",
   "execution_count": 174,
   "id": "de7bb59c-7557-40ad-abd8-043b855f4f4e",
   "metadata": {},
   "outputs": [],
   "source": [
    "my_tuple = (1, 2, 3, 4, 5)\n"
   ]
  },
  {
   "cell_type": "code",
   "execution_count": 178,
   "id": "ad5716f9-f378-4abe-9aed-ca301aeb04eb",
   "metadata": {},
   "outputs": [
    {
     "data": {
      "text/plain": [
       "2"
      ]
     },
     "execution_count": 178,
     "metadata": {},
     "output_type": "execute_result"
    }
   ],
   "source": [
    "my_tuple[1]"
   ]
  },
  {
   "cell_type": "code",
   "execution_count": 179,
   "id": "7fb23b52-0e45-4897-b2aa-12612c4bb892",
   "metadata": {},
   "outputs": [
    {
     "data": {
      "text/plain": [
       "1"
      ]
     },
     "execution_count": 179,
     "metadata": {},
     "output_type": "execute_result"
    }
   ],
   "source": [
    "my_tuple[0]"
   ]
  },
  {
   "cell_type": "code",
   "execution_count": 181,
   "id": "30714b91-9d1c-44f9-bfe3-b9b906060f2f",
   "metadata": {},
   "outputs": [
    {
     "data": {
      "text/plain": [
       "5"
      ]
     },
     "execution_count": 181,
     "metadata": {},
     "output_type": "execute_result"
    }
   ],
   "source": [
    "my_tuple[4]"
   ]
  },
  {
   "cell_type": "code",
   "execution_count": 182,
   "id": "781b493d-cc0a-4df0-ba44-b8a61334c6fa",
   "metadata": {},
   "outputs": [
    {
     "data": {
      "text/plain": [
       "3"
      ]
     },
     "execution_count": 182,
     "metadata": {},
     "output_type": "execute_result"
    }
   ],
   "source": [
    "my_tuple[2]"
   ]
  },
  {
   "cell_type": "code",
   "execution_count": 183,
   "id": "d553129f-06f9-4054-b767-b2aec35bbd17",
   "metadata": {},
   "outputs": [
    {
     "data": {
      "text/plain": [
       "4"
      ]
     },
     "execution_count": 183,
     "metadata": {},
     "output_type": "execute_result"
    }
   ],
   "source": [
    "my_tuple[3]"
   ]
  },
  {
   "cell_type": "code",
   "execution_count": 184,
   "id": "f87104bf-1189-47ba-8e8a-dc52ef224f9f",
   "metadata": {},
   "outputs": [
    {
     "name": "stdout",
     "output_type": "stream",
     "text": [
      "3\n"
     ]
    }
   ],
   "source": [
    "my_tuple = (1, 2, 3, 4, 5)\n",
    "third_element = my_tuple[2]\n",
    "print(third_element)\n"
   ]
  },
  {
   "cell_type": "code",
   "execution_count": 188,
   "id": "b78a6dd3-a752-41fd-8438-cee89cb4f405",
   "metadata": {},
   "outputs": [
    {
     "name": "stdout",
     "output_type": "stream",
     "text": [
      "9\n"
     ]
    }
   ],
   "source": [
    "my_tuple = (1, 2, 3, 4, 5,6,7,8,9)\n",
    "length = 0\n",
    "\n",
    "for _ in my_tuple:\n",
    "    length += 1\n",
    "\n",
    "print(length)\n"
   ]
  },
  {
   "cell_type": "code",
   "execution_count": 190,
   "id": "a21ed6fc-9392-4d57-bdf5-0b767ba1399b",
   "metadata": {},
   "outputs": [
    {
     "name": "stdout",
     "output_type": "stream",
     "text": [
      "3\n"
     ]
    }
   ],
   "source": [
    "my_tuple = (1, 2, 2, 3, 4, 2, 5,6,7,8,9)\n",
    "element_to_count = 2\n",
    "count = my_tuple.count(element_to_count)\n",
    "print(count)\n"
   ]
  },
  {
   "cell_type": "code",
   "execution_count": 191,
   "id": "2c5719ea-d0c1-4ca6-861b-e2f36197c626",
   "metadata": {},
   "outputs": [
    {
     "name": "stdout",
     "output_type": "stream",
     "text": [
      "Index of 2 : 1\n"
     ]
    }
   ],
   "source": [
    "my_tuple = (1, 2, 3, 4, 5, 2)\n",
    "element_to_find = 2\n",
    "\n",
    "if element_to_find in my_tuple:\n",
    "    index = my_tuple.index(element_to_find)\n",
    "    print(\"Index of\", element_to_find, \":\", index)\n",
    "else:\n",
    "    print(element_to_find, \"not found in the tuple.\")\n"
   ]
  },
  {
   "cell_type": "code",
   "execution_count": 192,
   "id": "6cd3782f-0db0-4df9-bf9e-bb93593f7e59",
   "metadata": {},
   "outputs": [
    {
     "name": "stdout",
     "output_type": "stream",
     "text": [
      "3 exists in the tuple.\n"
     ]
    }
   ],
   "source": [
    "my_tuple = (1, 2, 3, 4, 5)\n",
    "element_to_check = 3\n",
    "\n",
    "exists = element_to_check in my_tuple\n",
    "\n",
    "if exists:\n",
    "    print(element_to_check, \"exists in the tuple.\")\n",
    "else:\n",
    "    print(element_to_check, \"does not exist in the tuple.\")\n"
   ]
  },
  {
   "cell_type": "code",
   "execution_count": 193,
   "id": "2faea93b-cf50-4d2c-94f4-880b15708e33",
   "metadata": {},
   "outputs": [
    {
     "name": "stdout",
     "output_type": "stream",
     "text": [
      "[1, 2, 3, 4, 5]\n"
     ]
    }
   ],
   "source": [
    "my_tuple = (1, 2, 3, 4, 5,6,7)\n",
    "my_list = list(my_tuple)\n",
    "print(my_list)\n"
   ]
  },
  {
   "cell_type": "code",
   "execution_count": 195,
   "id": "f8113cc1-1e01-433e-98ae-83ee83e5d3e5",
   "metadata": {},
   "outputs": [
    {
     "name": "stdout",
     "output_type": "stream",
     "text": [
      "(1, 2, 3, 4, 5, 7, 6)\n"
     ]
    }
   ],
   "source": [
    "my_list = [1, 2, 3, 4, 5,7,6]\n",
    "my_tuple = tuple(my_list)\n",
    "print(my_tuple)\n"
   ]
  },
  {
   "cell_type": "code",
   "execution_count": 204,
   "id": "01cc16b2-5e1f-4134-93d5-81259390cfa6",
   "metadata": {},
   "outputs": [
    {
     "name": "stdout",
     "output_type": "stream",
     "text": [
      "1 2 3 4 5 6\n"
     ]
    }
   ],
   "source": [
    "my_tuple = (1, 2, 3, 4, 5, 6)\n",
    "var1, var2, var3,var4, var5, var6 = my_tuple\n",
    "print(var1, var2, var3, var4, var5, var6)\n"
   ]
  },
  {
   "cell_type": "code",
   "execution_count": 200,
   "id": "37221bf5-a80c-47e6-8c40-2e11b80e9340",
   "metadata": {},
   "outputs": [
    {
     "name": "stdout",
     "output_type": "stream",
     "text": [
      "(2, 4, 6, 8, 10, 12, 14)\n"
     ]
    }
   ],
   "source": [
    "even_tuple = tuple(x for x in range(2, 16, 2))\n",
    "print(even_tuple)\n"
   ]
  },
  {
   "cell_type": "code",
   "execution_count": 199,
   "id": "a5dabd0b-b96d-48b2-8d91-858a5b3d6082",
   "metadata": {},
   "outputs": [
    {
     "name": "stdout",
     "output_type": "stream",
     "text": [
      "(1, 3, 5, 7, 9, 11, 13, 15, 17, 19, 21, 23)\n"
     ]
    }
   ],
   "source": [
    "odd_tuple = tuple(x for x in range(1, 25, 2))\n",
    "print(odd_tuple)\n"
   ]
  },
  {
   "cell_type": "code",
   "execution_count": 206,
   "id": "1a26a9c3-cfb1-426f-8ed5-1b51ba3af1b8",
   "metadata": {},
   "outputs": [
    {
     "name": "stdout",
     "output_type": "stream",
     "text": [
      "(1, 2, 3, 4, 4, 5, 6, 9)\n"
     ]
    }
   ],
   "source": [
    "tuple1 = (1, 2, 3,4)\n",
    "tuple2 = (4, 5, 6,9)\n",
    "concatenated_tuple = tuple1 + tuple2\n",
    "print(concatenated_tuple)\n"
   ]
  },
  {
   "cell_type": "code",
   "execution_count": 208,
   "id": "a2de0bab-ffe6-4b02-9042-f7efb5e4f59e",
   "metadata": {},
   "outputs": [
    {
     "name": "stdout",
     "output_type": "stream",
     "text": [
      "(1, 2, 3, 4, 1, 2, 3, 4, 1, 2, 3, 4)\n"
     ]
    }
   ],
   "source": [
    "my_tuple = (1, 2, 3,4)\n",
    "repeated_tuple = my_tuple * 3\n",
    "print(repeated_tuple)\n"
   ]
  },
  {
   "cell_type": "code",
   "execution_count": 209,
   "id": "065d6dd9-de50-4073-8ccf-21e707ab90e4",
   "metadata": {},
   "outputs": [
    {
     "name": "stdout",
     "output_type": "stream",
     "text": [
      "Is the tuple empty? True\n"
     ]
    }
   ],
   "source": [
    "empty_tuple = ()\n",
    "is_empty = not empty_tuple\n",
    "print(\"Is the tuple empty?\", is_empty)\n"
   ]
  },
  {
   "cell_type": "code",
   "execution_count": 211,
   "id": "f6a83d64-3a81-4bf5-a086-b7730d143a2c",
   "metadata": {},
   "outputs": [
    {
     "name": "stdout",
     "output_type": "stream",
     "text": [
      "((1, 2), (3, 4), (5, 6), (7, 8))\n"
     ]
    }
   ],
   "source": [
    "nested_tuple = ((1, 2), (3, 4), (5, 6),(7,8))\n",
    "print(nested_tuple)\n"
   ]
  },
  {
   "cell_type": "code",
   "execution_count": 213,
   "id": "f4a406cc-bf2f-4c42-9162-0bbeca59e171",
   "metadata": {},
   "outputs": [
    {
     "name": "stdout",
     "output_type": "stream",
     "text": [
      "(1, 2)\n"
     ]
    }
   ],
   "source": [
    "nested_tuple = ((1, 2), (3, 4), (5, 6),(7,8))\n",
    "first_element = nested_tuple[0]\n",
    "print(first_element)\n"
   ]
  },
  {
   "cell_type": "code",
   "execution_count": 218,
   "id": "485d8f11-14bc-4a33-a838-b6d9a9fd63b9",
   "metadata": {},
   "outputs": [
    {
     "name": "stdout",
     "output_type": "stream",
     "text": [
      "(12,)\n"
     ]
    }
   ],
   "source": [
    "single_element_tuple = (12,)\n",
    "print(single_element_tuple)\n"
   ]
  },
  {
   "cell_type": "code",
   "execution_count": 220,
   "id": "dfb3caeb-a5b2-45ff-9f8f-10e654235773",
   "metadata": {},
   "outputs": [
    {
     "name": "stdout",
     "output_type": "stream",
     "text": [
      "Are the tuples equal? False\n"
     ]
    }
   ],
   "source": [
    "tuple1 = (1, 2, 3)\n",
    "tuple2 = (1, 2, 4)\n",
    "is_equal = tuple1 == tuple2\n",
    "print(\"Are the tuples equal?\", is_equal)\n"
   ]
  },
  {
   "cell_type": "code",
   "execution_count": 1,
   "id": "4417fe1b-7274-4179-8bf6-f76c5fef111a",
   "metadata": {},
   "outputs": [],
   "source": [
    "my_tuple = (1, 2, 3)\n",
    "del my_tuple\n",
    "# The tuple is now deleted and no longer accessible\n"
   ]
  },
  {
   "cell_type": "code",
   "execution_count": 2,
   "id": "414afddc-745d-4d1d-82c5-5ecaeed0eaf0",
   "metadata": {},
   "outputs": [
    {
     "name": "stdout",
     "output_type": "stream",
     "text": [
      "(2, 3, 4)\n"
     ]
    }
   ],
   "source": [
    "my_tuple = (1, 2, 3, 4, 5)\n",
    "sliced_tuple = my_tuple[1:4]  # Slices from index 1 to 3 (end index is exclusive)\n",
    "print(sliced_tuple)\n"
   ]
  },
  {
   "cell_type": "code",
   "execution_count": 4,
   "id": "63935d09-c5fa-4393-8519-5f3d8ce2143b",
   "metadata": {},
   "outputs": [
    {
     "name": "stdout",
     "output_type": "stream",
     "text": [
      "Maximum value: 12\n"
     ]
    }
   ],
   "source": [
    "my_tuple = (5, 3, 9, 2, 7,12)\n",
    "maximum_value = max(my_tuple)\n",
    "print(\"Maximum value:\", maximum_value)\n"
   ]
  },
  {
   "cell_type": "code",
   "execution_count": 6,
   "id": "7666f287-76fb-42ed-83f1-263f91f88f87",
   "metadata": {},
   "outputs": [
    {
     "name": "stdout",
     "output_type": "stream",
     "text": [
      "Minimum value: 1\n"
     ]
    }
   ],
   "source": [
    "my_tuple = (5, 3, 9, 2, 1)\n",
    "minimum_value = min(my_tuple)\n",
    "print(\"Minimum value:\", minimum_value)\n"
   ]
  },
  {
   "cell_type": "code",
   "execution_count": 7,
   "id": "15c31778-b426-410e-b060-99de6362c57d",
   "metadata": {},
   "outputs": [
    {
     "name": "stdout",
     "output_type": "stream",
     "text": [
      "('h', 'e', 'l', 'l', 'o')\n"
     ]
    }
   ],
   "source": [
    "my_string = \"hello\"\n",
    "char_tuple = tuple(my_string)\n",
    "print(char_tuple)\n"
   ]
  },
  {
   "cell_type": "code",
   "execution_count": 9,
   "id": "4657c26c-3f05-4f29-92be-b432cec0efb1",
   "metadata": {},
   "outputs": [
    {
     "name": "stdout",
     "output_type": "stream",
     "text": [
      "String from tuple: hellodiwa\n"
     ]
    }
   ],
   "source": [
    "char_tuple = ('h', 'e', 'l', 'l', 'o','d','i','w','a')\n",
    "string_from_tuple = ''.join(char_tuple)\n",
    "print(\"String from tuple:\", string_from_tuple)\n"
   ]
  },
  {
   "cell_type": "code",
   "execution_count": 14,
   "id": "6a3f523f-2a29-4ca7-8b09-94c5d3c6f86b",
   "metadata": {},
   "outputs": [
    {
     "name": "stdout",
     "output_type": "stream",
     "text": [
      "(1, 'hello', 3.14, True)\n"
     ]
    }
   ],
   "source": [
    "mixed_tuple = (1, 'hello', 3.14, True)\n",
    "print(mixed_tuple)\n"
   ]
  },
  {
   "cell_type": "code",
   "execution_count": 15,
   "id": "40ced359-33ca-4b68-b5a7-da85fdf9f419",
   "metadata": {},
   "outputs": [
    {
     "name": "stdout",
     "output_type": "stream",
     "text": [
      "Are the tuples identical? True\n"
     ]
    }
   ],
   "source": [
    "tuple1 = (1, 2, 3)\n",
    "tuple2 = (1, 2, 3)\n",
    "identical = tuple1 == tuple2\n",
    "print(\"Are the tuples identical?\", identical)\n"
   ]
  },
  {
   "cell_type": "code",
   "execution_count": 17,
   "id": "dbe5dd6e-65d4-49f2-a2c4-57be453751c1",
   "metadata": {},
   "outputs": [
    {
     "name": "stdout",
     "output_type": "stream",
     "text": [
      "Sorted tuple: (1, 2, 3, 4, 5, 6, 7)\n"
     ]
    }
   ],
   "source": [
    "my_tuple = (3, 1, 4, 2, 5,6,7)\n",
    "sorted_list = sorted(my_tuple)\n",
    "sorted_tuple = tuple(sorted_list)\n",
    "print(\"Sorted tuple:\", sorted_tuple)\n"
   ]
  },
  {
   "cell_type": "code",
   "execution_count": 19,
   "id": "94d81958-b050-40e2-95a1-c38f61dfdf0d",
   "metadata": {},
   "outputs": [
    {
     "name": "stdout",
     "output_type": "stream",
     "text": [
      "Tuple of strings: ('1', '2', '3', '4', '5', '6')\n"
     ]
    }
   ],
   "source": [
    "integer_tuple = (1, 2, 3, 4, 5,6)\n",
    "string_tuple = tuple(str(x) for x in integer_tuple)\n",
    "print(\"Tuple of strings:\", string_tuple)\n"
   ]
  },
  {
   "cell_type": "code",
   "execution_count": 21,
   "id": "b09e881d-12fb-4cb1-b47e-f0e3d3ac61c1",
   "metadata": {},
   "outputs": [
    {
     "name": "stdout",
     "output_type": "stream",
     "text": [
      "Tuple of integers: (1, 2, 3, 4, 5, 6)\n"
     ]
    }
   ],
   "source": [
    "string_tuple = ('1', '2', '3', '4', '5','6')\n",
    "integer_tuple = tuple(int(x) for x in string_tuple)\n",
    "print(\"Tuple of integers:\", integer_tuple)\n"
   ]
  },
  {
   "cell_type": "code",
   "execution_count": 22,
   "id": "06fb9ef9-144b-4678-993c-b05043f854a1",
   "metadata": {},
   "outputs": [
    {
     "name": "stdout",
     "output_type": "stream",
     "text": [
      "Merged tuple: (1, 2, 3, 4, 5, 6)\n"
     ]
    }
   ],
   "source": [
    "tuple1 = (1, 2, 3)\n",
    "tuple2 = (4, 5, 6)\n",
    "merged_tuple = tuple1 + tuple2\n",
    "print(\"Merged tuple:\", merged_tuple)\n"
   ]
  },
  {
   "cell_type": "code",
   "execution_count": 23,
   "id": "4740f4d8-2462-4063-ace2-99b482e00b96",
   "metadata": {},
   "outputs": [
    {
     "name": "stdout",
     "output_type": "stream",
     "text": [
      "Flattened tuple: (1, 2, 3, 4, 5, 6)\n"
     ]
    }
   ],
   "source": [
    "nested_tuple = ((1, 2), (3, 4), (5, 6))\n",
    "flattened_tuple = tuple(x for nested in nested_tuple for x in nested)\n",
    "print(\"Flattened tuple:\", flattened_tuple)\n"
   ]
  },
  {
   "cell_type": "code",
   "execution_count": 24,
   "id": "0ea9dc3b-ef20-48fc-8f75-e8a8b91a7606",
   "metadata": {},
   "outputs": [
    {
     "name": "stdout",
     "output_type": "stream",
     "text": [
      "Tuple of the first 5 prime numbers: (2, 3, 5, 7, 11)\n"
     ]
    }
   ],
   "source": [
    "def is_prime(n):\n",
    "    if n <= 1:\n",
    "        return False\n",
    "    for i in range(2, int(n ** 0.5) + 1):\n",
    "        if n % i == 0:\n",
    "            return False\n",
    "    return True\n",
    "\n",
    "prime_numbers = tuple(x for x in range(2, 100) if is_prime(x))[:5]\n",
    "print(\"Tuple of the first 5 prime numbers:\", prime_numbers)\n"
   ]
  },
  {
   "cell_type": "code",
   "execution_count": 25,
   "id": "4f3fdceb-9390-427f-9350-39bab7837c39",
   "metadata": {},
   "outputs": [
    {
     "name": "stdout",
     "output_type": "stream",
     "text": [
      "Is palindrome_tuple a palindrome? True\n",
      "Is not_palindrome_tuple a palindrome? False\n"
     ]
    }
   ],
   "source": [
    "def is_palindrome(tuple_to_check):\n",
    "    return tuple_to_check == tuple_to_check[::-1]\n",
    "\n",
    "palindrome_tuple = (1, 2, 3, 2, 1)\n",
    "not_palindrome_tuple = (1, 2, 3, 4, 5)\n",
    "\n",
    "print(\"Is palindrome_tuple a palindrome?\", is_palindrome(palindrome_tuple))\n",
    "print(\"Is not_palindrome_tuple a palindrome?\", is_palindrome(not_palindrome_tuple))\n"
   ]
  },
  {
   "cell_type": "code",
   "execution_count": 27,
   "id": "666c9edd-6c4a-45c6-b996-420a662659d2",
   "metadata": {},
   "outputs": [
    {
     "name": "stdout",
     "output_type": "stream",
     "text": [
      "Tuple of squares: (1, 4, 9, 16, 25, 36, 49, 64)\n"
     ]
    }
   ],
   "source": [
    "squares_tuple = tuple(x ** 2 for x in range(1, 9))\n",
    "print(\"Tuple of squares:\", squares_tuple)\n"
   ]
  },
  {
   "cell_type": "code",
   "execution_count": 29,
   "id": "928e9736-0db1-4f55-a3fa-6ea225a2694c",
   "metadata": {},
   "outputs": [
    {
     "name": "stdout",
     "output_type": "stream",
     "text": [
      "Tuple of odd numbers: (1, 3, 5, 7, 9, 11, 13)\n"
     ]
    }
   ],
   "source": [
    "original_tuple = (1, 2, 3, 4, 5, 6, 7, 8, 9, 10,11,12,13)\n",
    "odd_tuple = tuple(x for x in original_tuple if x % 2 != 0)\n",
    "print(\"Tuple of odd numbers:\", odd_tuple)\n"
   ]
  },
  {
   "cell_type": "code",
   "execution_count": 31,
   "id": "0b9063bb-e9bd-4e6d-8e11-67c6672152d4",
   "metadata": {},
   "outputs": [
    {
     "name": "stdout",
     "output_type": "stream",
     "text": [
      "Tuple with elements multiplied by 2: (2, 4, 6, 8, 10, 12, 14, 16, 18)\n"
     ]
    }
   ],
   "source": [
    "original_tuple = (1, 2, 3, 4, 5,6,7,8,9,)\n",
    "multiplied_tuple = tuple(x * 2 for x in original_tuple)\n",
    "print(\"Tuple with elements multiplied by 2:\", multiplied_tuple)\n"
   ]
  },
  {
   "cell_type": "code",
   "execution_count": 33,
   "id": "7ed63aac-aab0-410a-af0f-9eef1aa356ea",
   "metadata": {},
   "outputs": [
    {
     "name": "stdout",
     "output_type": "stream",
     "text": [
      "Tuple of random numbers: (332, 562, 180, 399, 569)\n"
     ]
    }
   ],
   "source": [
    "import random\n",
    "\n",
    "random_tuple = tuple(random.randint(1, 1000) for _ in range(5))\n",
    "print(\"Tuple of random numbers:\", random_tuple)\n"
   ]
  },
  {
   "cell_type": "code",
   "execution_count": 34,
   "id": "288bf1c2-c808-47e4-bf7e-1c997a1bb6a3",
   "metadata": {},
   "outputs": [
    {
     "name": "stdout",
     "output_type": "stream",
     "text": [
      "Is sorted_tuple sorted? True\n",
      "Is unsorted_tuple sorted? False\n"
     ]
    }
   ],
   "source": [
    "def is_sorted(tuple_to_check):\n",
    "    return tuple_to_check == tuple(sorted(tuple_to_check))\n",
    "\n",
    "sorted_tuple = (1, 2, 3, 4, 5)\n",
    "unsorted_tuple = (3, 1, 4, 5, 2)\n",
    "\n",
    "print(\"Is sorted_tuple sorted?\", is_sorted(sorted_tuple))\n",
    "print(\"Is unsorted_tuple sorted?\", is_sorted(unsorted_tuple))\n"
   ]
  },
  {
   "cell_type": "code",
   "execution_count": 35,
   "id": "e763ba09-c2e3-4228-864d-5907753f6e38",
   "metadata": {},
   "outputs": [
    {
     "name": "stdout",
     "output_type": "stream",
     "text": [
      "Rotated tuple: (3, 4, 5, 1, 2)\n"
     ]
    }
   ],
   "source": [
    "def rotate_left(tuple_to_rotate, n):\n",
    "    n = n % len(tuple_to_rotate)\n",
    "    return tuple_to_rotate[n:] + tuple_to_rotate[:n]\n",
    "\n",
    "original_tuple = (1, 2, 3, 4, 5)\n",
    "rotated_tuple = rotate_left(original_tuple, 2)\n",
    "print(\"Rotated tuple:\", rotated_tuple)\n"
   ]
  },
  {
   "cell_type": "code",
   "execution_count": 37,
   "id": "8a4cb16e-b264-43a9-b2c5-fa3fb7b560c8",
   "metadata": {},
   "outputs": [
    {
     "name": "stdout",
     "output_type": "stream",
     "text": [
      "Rotated tuple: (8, 9, 1, 2, 3, 4, 5, 6, 7)\n"
     ]
    }
   ],
   "source": [
    "def rotate_right(tuple_to_rotate, n):\n",
    "    n = n % len(tuple_to_rotate)\n",
    "    return tuple_to_rotate[-n:] + tuple_to_rotate[:-n]\n",
    "\n",
    "original_tuple = (1, 2, 3, 4, 5,6,7,8,9,)\n",
    "rotated_tuple = rotate_right(original_tuple, 2)\n",
    "print(\"Rotated tuple:\", rotated_tuple)\n"
   ]
  },
  {
   "cell_type": "code",
   "execution_count": 38,
   "id": "00ad6803-5a73-41bf-90ea-fb82dc089dd6",
   "metadata": {},
   "outputs": [
    {
     "name": "stdout",
     "output_type": "stream",
     "text": [
      "Tuple of the first 5 Fibonacci numbers: (0, 1, 1, 2, 3)\n"
     ]
    }
   ],
   "source": [
    "def generate_fibonacci(n):\n",
    "    fibonacci = [0, 1]\n",
    "    for i in range(2, n):\n",
    "        next_fib = fibonacci[i-1] + fibonacci[i-2]\n",
    "        fibonacci.append(next_fib)\n",
    "    return tuple(fibonacci)\n",
    "\n",
    "fibonacci_tuple = generate_fibonacci(5)\n",
    "print(\"Tuple of the first 5 Fibonacci numbers:\", fibonacci_tuple)\n"
   ]
  },
  {
   "cell_type": "code",
   "execution_count": null,
   "id": "c2dc3eba-1ee4-4e97-b68d-b306e4c63930",
   "metadata": {},
   "outputs": [
    {
     "name": "stdin",
     "output_type": "stream",
     "text": [
      "Enter the number of elements:  5164\n",
      "Enter element 1:  3564\n",
      "Enter element 2:  635\n",
      "Enter element 3:  36859\n"
     ]
    }
   ],
   "source": [
    "n = int(input(\"Enter the number of elements: \"))\n",
    "user_tuple = tuple(int(input(f\"Enter element {i + 1}: \")) for i in range(n))\n",
    "print(\"User input tuple:\", user_tuple)\n"
   ]
  },
  {
   "cell_type": "code",
   "execution_count": 1,
   "id": "2aaced1e-a327-430c-bf48-75beb22aa936",
   "metadata": {},
   "outputs": [
    {
     "name": "stdout",
     "output_type": "stream",
     "text": [
      "Swapped tuple: (1, 4, 3, 2, 5)\n"
     ]
    }
   ],
   "source": [
    "def swap_elements(tuple_to_swap, index1, index2):\n",
    "    list_version = list(tuple_to_swap)\n",
    "    list_version[index1], list_version[index2] = list_version[index2], list_version[index1]\n",
    "    return tuple(list_version)\n",
    "\n",
    "my_tuple = (1, 2, 3, 4, 5)\n",
    "swapped_tuple = swap_elements(my_tuple, 1, 3)\n",
    "print(\"Swapped tuple:\", swapped_tuple)\n"
   ]
  },
  {
   "cell_type": "code",
   "execution_count": 2,
   "id": "7244d4c9-3fc9-44ce-a94e-f8c9c0c3dfe1",
   "metadata": {},
   "outputs": [
    {
     "name": "stdout",
     "output_type": "stream",
     "text": [
      "Reversed tuple: (5, 4, 3, 2, 1)\n"
     ]
    }
   ],
   "source": [
    "my_tuple = (1, 2, 3, 4, 5)\n",
    "reversed_tuple = my_tuple[::-1]\n",
    "print(\"Reversed tuple:\", reversed_tuple)\n"
   ]
  },
  {
   "cell_type": "code",
   "execution_count": 3,
   "id": "8e9bd83e-332b-4260-a6f2-db3c8c250ade",
   "metadata": {},
   "outputs": [
    {
     "name": "stdout",
     "output_type": "stream",
     "text": [
      "Tuple of powers of 2: (1, 2, 4, 8, 16)\n"
     ]
    }
   ],
   "source": [
    "n = 5\n",
    "powers_of_2_tuple = tuple(2 ** i for i in range(n))\n",
    "print(\"Tuple of powers of 2:\", powers_of_2_tuple)\n"
   ]
  },
  {
   "cell_type": "code",
   "execution_count": 4,
   "id": "1a86922c-7c67-42f8-9be2-a426ca8f4781",
   "metadata": {},
   "outputs": [
    {
     "name": "stdout",
     "output_type": "stream",
     "text": [
      "Longest string: banana\n"
     ]
    }
   ],
   "source": [
    "string_tuple = ('apple', 'banana', 'cherry', 'date', 'fig')\n",
    "longest_string = max(string_tuple, key=len)\n",
    "print(\"Longest string:\", longest_string)\n"
   ]
  },
  {
   "cell_type": "code",
   "execution_count": 5,
   "id": "decf0361-6b6e-4bd5-8f17-4da7874b1380",
   "metadata": {},
   "outputs": [
    {
     "name": "stdout",
     "output_type": "stream",
     "text": [
      "Shortest string: fig\n"
     ]
    }
   ],
   "source": [
    "string_tuple = ('apple', 'banana', 'cherry', 'date', 'fig')\n",
    "shortest_string = min(string_tuple, key=len)\n",
    "print(\"Shortest string:\", shortest_string)\n"
   ]
  },
  {
   "cell_type": "code",
   "execution_count": 6,
   "id": "7f4b7295-2c58-4229-ac0c-362de2b1e39a",
   "metadata": {},
   "outputs": [
    {
     "name": "stdout",
     "output_type": "stream",
     "text": [
      "Tuple of triangular numbers: (1, 3, 6, 10, 15)\n"
     ]
    }
   ],
   "source": [
    "def generate_triangular_numbers(n):\n",
    "    triangular_numbers = [i * (i + 1) // 2 for i in range(1, n + 1)]\n",
    "    return tuple(triangular_numbers)\n",
    "\n",
    "n = 5\n",
    "triangular_tuple = generate_triangular_numbers(n)\n",
    "print(\"Tuple of triangular numbers:\", triangular_tuple)\n"
   ]
  },
  {
   "cell_type": "code",
   "execution_count": 7,
   "id": "a1be9d0a-51c0-43f0-bf32-2932e3026031",
   "metadata": {},
   "outputs": [
    {
     "name": "stdout",
     "output_type": "stream",
     "text": [
      "Does tuple1 contain subsequence_tuple? False\n"
     ]
    }
   ],
   "source": [
    "tuple1 = (1, 2, 3, 4, 5)\n",
    "subsequence_tuple = (2, 3)\n",
    "is_subsequence = subsequence_tuple in tuple1\n",
    "print(\"Does tuple1 contain subsequence_tuple?\", is_subsequence)\n"
   ]
  },
  {
   "cell_type": "code",
   "execution_count": 8,
   "id": "bbc26a44-4d3f-4d3c-b7f0-01b2fe3c0514",
   "metadata": {},
   "outputs": [
    {
     "name": "stdout",
     "output_type": "stream",
     "text": [
      "Tuple of alternating 1s and 0s: (1, 0, 1, 0, 1, 0, 1, 0, 1, 0)\n"
     ]
    }
   ],
   "source": [
    "n = 10\n",
    "alternating_tuple = tuple(1 if i % 2 == 0 else 0 for i in range(n))\n",
    "print(\"Tuple of alternating 1s and 0s:\", alternating_tuple)\n"
   ]
  },
  {
   "cell_type": "code",
   "execution_count": 9,
   "id": "c0eb2f48-9940-4cf0-87cc-4d84bb0d357b",
   "metadata": {},
   "outputs": [],
   "source": [
    "#Set Based Practice Problem :"
   ]
  },
  {
   "cell_type": "code",
   "execution_count": 10,
   "id": "7cfa97ed-e2a1-48c9-a5b7-5c60079ca427",
   "metadata": {},
   "outputs": [
    {
     "name": "stdout",
     "output_type": "stream",
     "text": [
      "Integer set: {1, 2, 3, 4, 5}\n"
     ]
    }
   ],
   "source": [
    "integer_set = {i for i in range(1, 6)}\n",
    "print(\"Integer set:\", integer_set)\n"
   ]
  },
  {
   "cell_type": "code",
   "execution_count": 12,
   "id": "86dc89de-bf10-4335-8033-c4b60e84ccc5",
   "metadata": {},
   "outputs": [
    {
     "name": "stdout",
     "output_type": "stream",
     "text": [
      "Updated set: {1, 2, 3, 4, 5, 6}\n"
     ]
    }
   ],
   "source": [
    "my_set = {1, 2, 3,5,6}\n",
    "my_set.add(4)\n",
    "print(\"Updated set:\", my_set)\n"
   ]
  },
  {
   "cell_type": "code",
   "execution_count": 14,
   "id": "aef6d31e-86cf-4861-9ddf-8a99b91057fb",
   "metadata": {},
   "outputs": [
    {
     "name": "stdout",
     "output_type": "stream",
     "text": [
      "Updated set: {1, 2, 4, 6, 7}\n"
     ]
    }
   ],
   "source": [
    "my_set = {1, 2, 3, 4,6,7}\n",
    "my_set.remove(3)\n",
    "print(\"Updated set:\", my_set)\n"
   ]
  },
  {
   "cell_type": "code",
   "execution_count": 15,
   "id": "6116ddb3-b7e3-4865-8794-b66f3959465d",
   "metadata": {},
   "outputs": [
    {
     "name": "stdout",
     "output_type": "stream",
     "text": [
      "Is element present? True\n"
     ]
    }
   ],
   "source": [
    "my_set = {1, 2, 3, 4}\n",
    "element_to_check = 3\n",
    "is_present = element_to_check in my_set\n",
    "print(\"Is element present?\", is_present)\n"
   ]
  },
  {
   "cell_type": "code",
   "execution_count": 17,
   "id": "a0e863ac-a3fa-47f1-997e-4fe811d1ce7e",
   "metadata": {},
   "outputs": [
    {
     "name": "stdout",
     "output_type": "stream",
     "text": [
      "Length of the set: 6\n"
     ]
    }
   ],
   "source": [
    "my_set = {1, 2, 3, 4,5,6}\n",
    "count = 0\n",
    "for _ in my_set:\n",
    "    count += 1\n",
    "print(\"Length of the set:\", count)\n"
   ]
  },
  {
   "cell_type": "code",
   "execution_count": 18,
   "id": "5cb99dd3-8d06-4a61-aeb3-db3b17e94a8f",
   "metadata": {},
   "outputs": [
    {
     "name": "stdout",
     "output_type": "stream",
     "text": [
      "Cleared set: set()\n"
     ]
    }
   ],
   "source": [
    "my_set = {1, 2, 3, 4}\n",
    "my_set.clear()\n",
    "print(\"Cleared set:\", my_set)\n"
   ]
  },
  {
   "cell_type": "code",
   "execution_count": 19,
   "id": "2b2d5c53-e95f-4632-a952-e496f060c789",
   "metadata": {},
   "outputs": [
    {
     "name": "stdout",
     "output_type": "stream",
     "text": [
      "Even number set: {2, 4, 6, 8, 10}\n"
     ]
    }
   ],
   "source": [
    "even_set = {i for i in range(2, 11, 2)}\n",
    "print(\"Even number set:\", even_set)\n"
   ]
  },
  {
   "cell_type": "code",
   "execution_count": 20,
   "id": "e622c062-451f-4a41-b39b-aa5f4d2f4ecf",
   "metadata": {},
   "outputs": [
    {
     "name": "stdout",
     "output_type": "stream",
     "text": [
      "Odd number set: {1, 3, 5, 7, 9}\n"
     ]
    }
   ],
   "source": [
    "odd_set = {i for i in range(1, 11, 2)}\n",
    "print(\"Odd number set:\", odd_set)\n"
   ]
  },
  {
   "cell_type": "code",
   "execution_count": 21,
   "id": "7c37e9a3-cb5c-4fb1-bffc-747c3b48e31c",
   "metadata": {},
   "outputs": [
    {
     "name": "stdout",
     "output_type": "stream",
     "text": [
      "Union set: {1, 2, 3, 4, 5}\n"
     ]
    }
   ],
   "source": [
    "set1 = {1, 2, 3}\n",
    "set2 = {3, 4, 5}\n",
    "union_set = set1.union(set2)\n",
    "# Alternatively: union_set = set1 | set2\n",
    "print(\"Union set:\", union_set)\n"
   ]
  },
  {
   "cell_type": "code",
   "execution_count": 22,
   "id": "5632933e-6ccd-4fcb-afe4-77c0d8713c5b",
   "metadata": {},
   "outputs": [
    {
     "name": "stdout",
     "output_type": "stream",
     "text": [
      "Intersection set: {3}\n"
     ]
    }
   ],
   "source": [
    "set1 = {1, 2, 3}\n",
    "set2 = {3, 4, 5}\n",
    "intersection_set = set1.intersection(set2)\n",
    "# Alternatively: intersection_set = set1 & set2\n",
    "print(\"Intersection set:\", intersection_set)\n"
   ]
  },
  {
   "cell_type": "code",
   "execution_count": 23,
   "id": "94f8ba4a-2a78-4100-8b84-a5ab008a4c18",
   "metadata": {},
   "outputs": [
    {
     "name": "stdout",
     "output_type": "stream",
     "text": [
      "Difference set: {1, 2}\n"
     ]
    }
   ],
   "source": [
    "set1 = {1, 2, 3}\n",
    "set2 = {3, 4, 5}\n",
    "difference_set = set1.difference(set2)\n",
    "# Alternatively: difference_set = set1 - set2\n",
    "print(\"Difference set:\", difference_set)\n"
   ]
  },
  {
   "cell_type": "code",
   "execution_count": 24,
   "id": "4dcd6162-b304-4f7a-871a-ab20b6c729cd",
   "metadata": {},
   "outputs": [
    {
     "name": "stdout",
     "output_type": "stream",
     "text": [
      "Is set1 a subset of set2? True\n"
     ]
    }
   ],
   "source": [
    "set1 = {1, 2}\n",
    "set2 = {1, 2, 3, 4}\n",
    "is_subset = set1.issubset(set2)\n",
    "print(\"Is set1 a subset of set2?\", is_subset)\n"
   ]
  },
  {
   "cell_type": "code",
   "execution_count": 25,
   "id": "362f9f2c-4d8b-4978-b697-591e342f8422",
   "metadata": {},
   "outputs": [
    {
     "name": "stdout",
     "output_type": "stream",
     "text": [
      "Is set1 a superset of set2? True\n"
     ]
    }
   ],
   "source": [
    "set1 = {1, 2, 3, 4}\n",
    "set2 = {1, 2}\n",
    "is_superset = set1.issuperset(set2)\n",
    "print(\"Is set1 a superset of set2?\", is_superset)\n"
   ]
  },
  {
   "cell_type": "code",
   "execution_count": 26,
   "id": "3a392507-c09b-4aad-ac60-39f52cdfd39d",
   "metadata": {},
   "outputs": [
    {
     "name": "stdout",
     "output_type": "stream",
     "text": [
      "Set from list: {1, 2, 3, 4, 5}\n"
     ]
    }
   ],
   "source": [
    "my_list = [1, 2, 3, 3, 4, 5]\n",
    "my_set = set(my_list)\n",
    "print(\"Set from list:\", my_set)\n"
   ]
  },
  {
   "cell_type": "code",
   "execution_count": 27,
   "id": "c5bdca95-7749-4933-b370-24105d675d30",
   "metadata": {},
   "outputs": [
    {
     "name": "stdout",
     "output_type": "stream",
     "text": [
      "List from set: [1, 2, 3]\n"
     ]
    }
   ],
   "source": [
    "my_set = {1, 2, 3}\n",
    "my_list = list(my_set)\n",
    "print(\"List from set:\", my_list)\n"
   ]
  },
  {
   "cell_type": "code",
   "execution_count": 28,
   "id": "4d1adca6-2d9c-470b-a3a3-9c01fe549448",
   "metadata": {},
   "outputs": [
    {
     "name": "stdout",
     "output_type": "stream",
     "text": [
      "Removed element: 1\n"
     ]
    }
   ],
   "source": [
    "my_set = {1, 2, 3, 4, 5}\n",
    "removed_element = my_set.pop()\n",
    "print(\"Removed element:\", removed_element)\n"
   ]
  },
  {
   "cell_type": "code",
   "execution_count": 29,
   "id": "8f3102d8-8df3-452a-85a1-eef45a0f4df9",
   "metadata": {},
   "outputs": [
    {
     "name": "stdout",
     "output_type": "stream",
     "text": [
      "Popped element: 1\n"
     ]
    }
   ],
   "source": [
    "my_set = {1, 2, 3, 4, 5}\n",
    "popped_element = my_set.pop()\n",
    "print(\"Popped element:\", popped_element)\n"
   ]
  },
  {
   "cell_type": "code",
   "execution_count": 30,
   "id": "d55d32e9-8353-4417-bd46-dd7a5a321745",
   "metadata": {},
   "outputs": [
    {
     "name": "stdout",
     "output_type": "stream",
     "text": [
      "Are the sets disjoint? True\n"
     ]
    }
   ],
   "source": [
    "set1 = {1, 2, 3}\n",
    "set2 = {4, 5, 6}\n",
    "are_disjoint = set1.isdisjoint(set2)\n",
    "print(\"Are the sets disjoint?\", are_disjoint)\n"
   ]
  },
  {
   "cell_type": "code",
   "execution_count": 31,
   "id": "4c749d88-74d5-440c-bfc0-a72c3b91431d",
   "metadata": {},
   "outputs": [
    {
     "name": "stdout",
     "output_type": "stream",
     "text": [
      "Symmetric difference: {1, 2, 4, 5}\n"
     ]
    }
   ],
   "source": [
    "set1 = {1, 2, 3}\n",
    "set2 = {3, 4, 5}\n",
    "symmetric_diff = set1.symmetric_difference(set2)\n",
    "# Alternatively: symmetric_diff = set1 ^ set2\n",
    "print(\"Symmetric difference:\", symmetric_diff)\n"
   ]
  },
  {
   "cell_type": "code",
   "execution_count": 32,
   "id": "b9921dde-7998-4072-a8b8-8128457969bd",
   "metadata": {},
   "outputs": [
    {
     "name": "stdout",
     "output_type": "stream",
     "text": [
      "Updated set1: {1, 2, 3, 4, 5}\n"
     ]
    }
   ],
   "source": [
    "set1 = {1, 2, 3}\n",
    "set2 = {3, 4, 5}\n",
    "set1.update(set2)\n",
    "# Alternatively: set1 |= set2\n",
    "print(\"Updated set1:\", set1)\n"
   ]
  },
  {
   "cell_type": "code",
   "execution_count": 33,
   "id": "4c297782-92f5-4d40-8cb3-6cb944ec9a31",
   "metadata": {},
   "outputs": [
    {
     "name": "stdout",
     "output_type": "stream",
     "text": [
      "Prime number set: {2, 3, 5, 7, 11}\n"
     ]
    }
   ],
   "source": [
    "prime_set = {2, 3, 5, 7, 11}\n",
    "print(\"Prime number set:\", prime_set)\n"
   ]
  },
  {
   "cell_type": "code",
   "execution_count": 34,
   "id": "22796f5c-d4b3-4c06-a69c-dd995e2e2064",
   "metadata": {},
   "outputs": [
    {
     "name": "stdout",
     "output_type": "stream",
     "text": [
      "Are the sets identical? True\n"
     ]
    }
   ],
   "source": [
    "set1 = {1, 2, 3}\n",
    "set2 = {3, 2, 1}\n",
    "are_identical = set1 == set2\n",
    "print(\"Are the sets identical?\", are_identical)\n"
   ]
  },
  {
   "cell_type": "code",
   "execution_count": 35,
   "id": "31818f10-64fe-4672-9879-5ff1013f9866",
   "metadata": {},
   "outputs": [
    {
     "name": "stdout",
     "output_type": "stream",
     "text": [
      "Frozen set: frozenset({1, 2, 3})\n"
     ]
    }
   ],
   "source": [
    "my_frozen_set = frozenset({1, 2, 3})\n",
    "print(\"Frozen set:\", my_frozen_set)\n"
   ]
  },
  {
   "cell_type": "code",
   "execution_count": 36,
   "id": "0884682e-c27a-43ae-9fb7-3631360e9235",
   "metadata": {},
   "outputs": [
    {
     "name": "stdout",
     "output_type": "stream",
     "text": [
      "Are the sets disjoint? True\n"
     ]
    }
   ],
   "source": [
    "set1 = {1, 2, 3}\n",
    "set2 = {4, 5, 6}\n",
    "are_disjoint = set1.isdisjoint(set2)\n",
    "print(\"Are the sets disjoint?\", are_disjoint)\n"
   ]
  },
  {
   "cell_type": "code",
   "execution_count": 37,
   "id": "a221246c-3069-450b-9355-e83a2828e68c",
   "metadata": {},
   "outputs": [
    {
     "name": "stdout",
     "output_type": "stream",
     "text": [
      "Set of squares: {1, 4, 9, 16, 25}\n"
     ]
    }
   ],
   "source": [
    "square_set = {i**2 for i in range(1, 6)}\n",
    "print(\"Set of squares:\", square_set)\n"
   ]
  },
  {
   "cell_type": "code",
   "execution_count": 38,
   "id": "70122165-4b8c-49c2-8069-b6b8e5e24c6f",
   "metadata": {},
   "outputs": [
    {
     "name": "stdout",
     "output_type": "stream",
     "text": [
      "Odd number set: {1, 3, 5}\n"
     ]
    }
   ],
   "source": [
    "original_set = {1, 2, 3, 4, 5}\n",
    "odd_set = {x for x in original_set if x % 2 != 0}\n",
    "print(\"Odd number set:\", odd_set)\n"
   ]
  },
  {
   "cell_type": "code",
   "execution_count": 39,
   "id": "baf12835-b040-49ef-9f48-1359ebb6ddf5",
   "metadata": {},
   "outputs": [
    {
     "name": "stdout",
     "output_type": "stream",
     "text": [
      "New set with elements multiplied by 2: {2, 4, 6, 8, 10}\n"
     ]
    }
   ],
   "source": [
    "original_set = {1, 2, 3, 4, 5}\n",
    "new_set = {x * 2 for x in original_set}\n",
    "print(\"New set with elements multiplied by 2:\", new_set)\n"
   ]
  },
  {
   "cell_type": "code",
   "execution_count": 40,
   "id": "6f369b6b-94dd-48c7-bfaa-b8e4d077bc03",
   "metadata": {},
   "outputs": [
    {
     "name": "stdout",
     "output_type": "stream",
     "text": [
      "Random number set: {100, 14, 18, 28, 30}\n"
     ]
    }
   ],
   "source": [
    "import random\n",
    "\n",
    "random_set = {random.randint(1, 100) for _ in range(5)}\n",
    "print(\"Random number set:\", random_set)\n"
   ]
  },
  {
   "cell_type": "code",
   "execution_count": 41,
   "id": "4a78bc4b-98df-4620-bd13-9f9673dc1948",
   "metadata": {},
   "outputs": [
    {
     "name": "stdout",
     "output_type": "stream",
     "text": [
      "Is the set empty? True\n"
     ]
    }
   ],
   "source": [
    "my_set = set()\n",
    "is_empty = not my_set\n",
    "print(\"Is the set empty?\", is_empty)\n"
   ]
  },
  {
   "cell_type": "code",
   "execution_count": 42,
   "id": "0571fbe9-3a63-4577-9a74-e8e415f63b8a",
   "metadata": {},
   "outputs": [
    {
     "name": "stdout",
     "output_type": "stream",
     "text": [
      "Nested set: {frozenset({3, 4}), frozenset({1, 2})}\n"
     ]
    }
   ],
   "source": [
    "nested_set = {frozenset({1, 2}), frozenset({3, 4})}\n",
    "print(\"Nested set:\", nested_set)\n"
   ]
  },
  {
   "cell_type": "code",
   "execution_count": 43,
   "id": "eba7537e-6df5-4980-9c69-f3152b74657f",
   "metadata": {},
   "outputs": [
    {
     "name": "stdout",
     "output_type": "stream",
     "text": [
      "Updated set: {1, 2, 4, 5}\n"
     ]
    }
   ],
   "source": [
    "my_set = {1, 2, 3, 4, 5}\n",
    "my_set.discard(3)\n",
    "print(\"Updated set:\", my_set)\n"
   ]
  },
  {
   "cell_type": "code",
   "execution_count": 44,
   "id": "f65e124f-b47c-4792-85cc-0ac420447d96",
   "metadata": {},
   "outputs": [
    {
     "name": "stdout",
     "output_type": "stream",
     "text": [
      "Are the sets equal? True\n"
     ]
    }
   ],
   "source": [
    "set1 = {1, 2, 3}\n",
    "set2 = {3, 2, 1}\n",
    "are_equal = set1 == set2\n",
    "print(\"Are the sets equal?\", are_equal)\n"
   ]
  },
  {
   "cell_type": "code",
   "execution_count": 45,
   "id": "c5ae2cda-739f-4513-b5c1-94792dd4feaf",
   "metadata": {},
   "outputs": [
    {
     "name": "stdout",
     "output_type": "stream",
     "text": [
      "Set from string: {'l', 'o', 'h', 'e'}\n"
     ]
    }
   ],
   "source": [
    "my_string = \"hello\"\n",
    "char_set = {char for char in my_string}\n",
    "print(\"Set from string:\", char_set)\n"
   ]
  },
  {
   "cell_type": "code",
   "execution_count": 46,
   "id": "26ce1871-9191-48e6-9159-d3f13396fdfd",
   "metadata": {},
   "outputs": [
    {
     "name": "stdout",
     "output_type": "stream",
     "text": [
      "Set of integers: {1, 2, 3}\n"
     ]
    }
   ],
   "source": [
    "string_set = {\"1\", \"2\", \"3\"}\n",
    "int_set = {int(x) for x in string_set}\n",
    "print(\"Set of integers:\", int_set)\n"
   ]
  },
  {
   "cell_type": "code",
   "execution_count": 47,
   "id": "17df01f9-7cc1-4f76-90e1-59bdcd2a79b3",
   "metadata": {},
   "outputs": [
    {
     "name": "stdout",
     "output_type": "stream",
     "text": [
      "Set of strings: {'3', '2', '1'}\n"
     ]
    }
   ],
   "source": [
    "int_set = {1, 2, 3}\n",
    "string_set = {str(x) for x in int_set}\n",
    "print(\"Set of strings:\", string_set)\n"
   ]
  },
  {
   "cell_type": "code",
   "execution_count": 48,
   "id": "8ff8fdff-9d9d-46e9-b88c-6e07f264a978",
   "metadata": {},
   "outputs": [
    {
     "name": "stdout",
     "output_type": "stream",
     "text": [
      "Set from tuple: {1, 2, 3}\n"
     ]
    }
   ],
   "source": [
    "my_tuple = (1, 2, 3)\n",
    "tuple_set = set(my_tuple)\n",
    "print(\"Set from tuple:\", tuple_set)\n"
   ]
  },
  {
   "cell_type": "code",
   "execution_count": 49,
   "id": "e004d357-e89b-4a7e-910e-0ba8a82baeda",
   "metadata": {},
   "outputs": [
    {
     "name": "stdout",
     "output_type": "stream",
     "text": [
      "Tuple from set: (1, 2, 3)\n"
     ]
    }
   ],
   "source": [
    "my_set = {1, 2, 3}\n",
    "set_tuple = tuple(my_set)\n",
    "print(\"Tuple from set:\", set_tuple)\n"
   ]
  },
  {
   "cell_type": "code",
   "execution_count": 50,
   "id": "b483d224-8739-4c63-b8e9-aad2d0e37cd8",
   "metadata": {},
   "outputs": [
    {
     "name": "stdout",
     "output_type": "stream",
     "text": [
      "Maximum value: 9\n"
     ]
    }
   ],
   "source": [
    "my_set = {1, 5, 3, 9, 2}\n",
    "max_value = max(my_set)\n",
    "print(\"Maximum value:\", max_value)\n"
   ]
  },
  {
   "cell_type": "code",
   "execution_count": 51,
   "id": "fe5dff7a-2a75-49f1-b0a7-2e10768837c9",
   "metadata": {},
   "outputs": [
    {
     "name": "stdout",
     "output_type": "stream",
     "text": [
      "Minimum value: 1\n"
     ]
    }
   ],
   "source": [
    "my_set = {1, 5, 3, 9, 2}\n",
    "min_value = min(my_set)\n",
    "print(\"Minimum value:\", min_value)\n"
   ]
  },
  {
   "cell_type": "code",
   "execution_count": 52,
   "id": "3c62f104-02da-422e-9fba-d7d28f1471fd",
   "metadata": {},
   "outputs": [
    {
     "name": "stdin",
     "output_type": "stream",
     "text": [
      "Enter elements separated by spaces:  diwakar chauhan\n"
     ]
    },
    {
     "name": "stdout",
     "output_type": "stream",
     "text": [
      "Set from user input: {'chauhan', 'diwakar'}\n"
     ]
    }
   ],
   "source": [
    "user_input = input(\"Enter elements separated by spaces: \")\n",
    "input_list = user_input.split()\n",
    "input_set = set(input_list)\n",
    "print(\"Set from user input:\", input_set)\n"
   ]
  },
  {
   "cell_type": "code",
   "execution_count": 53,
   "id": "fb6a8bd3-6a0a-46ce-81c7-c231f5dd5b18",
   "metadata": {},
   "outputs": [
    {
     "name": "stdout",
     "output_type": "stream",
     "text": [
      "Is the intersection empty? True\n"
     ]
    }
   ],
   "source": [
    "set1 = {1, 2, 3}\n",
    "set2 = {4, 5, 6}\n",
    "intersection_empty = set1.isdisjoint(set2)\n",
    "print(\"Is the intersection empty?\", intersection_empty)\n"
   ]
  },
  {
   "cell_type": "code",
   "execution_count": 54,
   "id": "4c31aebe-a01a-490a-89d4-1405262a5f1c",
   "metadata": {},
   "outputs": [
    {
     "name": "stdout",
     "output_type": "stream",
     "text": [
      "Fibonacci number set: {0, 1, 2, 3}\n"
     ]
    }
   ],
   "source": [
    "fibonacci_set = {0, 1, 1, 2, 3}  # Assuming you want to include duplicates\n",
    "print(\"Fibonacci number set:\", fibonacci_set)\n"
   ]
  },
  {
   "cell_type": "code",
   "execution_count": 55,
   "id": "477333cc-db4b-47ef-8919-607fac5c5afb",
   "metadata": {},
   "outputs": [
    {
     "name": "stdout",
     "output_type": "stream",
     "text": [
      "List with duplicates removed: [1, 2, 3, 4, 5]\n"
     ]
    }
   ],
   "source": [
    "original_list = [1, 2, 2, 3, 4, 4, 5]\n",
    "unique_set = set(original_list)\n",
    "unique_list = list(unique_set)\n",
    "print(\"List with duplicates removed:\", unique_list)\n"
   ]
  },
  {
   "cell_type": "code",
   "execution_count": 56,
   "id": "2c9f2f35-33df-4e7a-ab65-54cd976745c0",
   "metadata": {},
   "outputs": [
    {
     "name": "stdout",
     "output_type": "stream",
     "text": [
      "Do the sets have the same elements? True\n"
     ]
    }
   ],
   "source": [
    "set1 = {1, 2, 3}\n",
    "set2 = {3, 2, 1, 1, 2, 3}\n",
    "have_same_elements = set1 == set2\n",
    "print(\"Do the sets have the same elements?\", have_same_elements)\n"
   ]
  },
  {
   "cell_type": "code",
   "execution_count": 68,
   "id": "6816d3eb-4293-44e2-9ad1-4b7add357454",
   "metadata": {},
   "outputs": [
    {
     "name": "stdout",
     "output_type": "stream",
     "text": [
      "Set of powers of 2: {32, 1, 2, 64, 4, 128, 256, 8, 16}\n"
     ]
    }
   ],
   "source": [
    "n = 9\n",
    "powers_of_2_set = {2 ** i for i in range(n)}\n",
    "print(\"Set of powers of 2:\", powers_of_2_set)\n"
   ]
  },
  {
   "cell_type": "code",
   "execution_count": 67,
   "id": "56cf0dc9-6b43-401a-a577-bff5240a59e1",
   "metadata": {},
   "outputs": [
    {
     "name": "stdout",
     "output_type": "stream",
     "text": [
      "Common elements: {3, 4, 5, 6}\n"
     ]
    }
   ],
   "source": [
    "set1 = {1, 2, 3, 4,5,6}\n",
    "list1 = [3, 4, 5, 6,7,8,9]\n",
    "common_elements = set1.intersection(list1)\n",
    "# Alternatively: common_elements = set1 & set(list1)\n",
    "print(\"Common elements:\", common_elements)\n"
   ]
  },
  {
   "cell_type": "code",
   "execution_count": 66,
   "id": "dfdfc348-cdab-43d0-baf4-3acac054af96",
   "metadata": {},
   "outputs": [
    {
     "name": "stdout",
     "output_type": "stream",
     "text": [
      "Set of triangular numbers: {1, 3, 36, 6, 10, 45, 15, 21, 28}\n"
     ]
    }
   ],
   "source": [
    "n = 9\n",
    "triangular_set = {i * (i + 1) // 2 for i in range(1, n + 1)}\n",
    "print(\"Set of triangular numbers:\", triangular_set)\n"
   ]
  },
  {
   "cell_type": "code",
   "execution_count": 65,
   "id": "bb6f5cbe-bd4a-494d-82bb-16b0f86a0b37",
   "metadata": {},
   "outputs": [
    {
     "name": "stdout",
     "output_type": "stream",
     "text": [
      "Is set1 a subset of set2? True\n"
     ]
    }
   ],
   "source": [
    "set1 = {1, 2,3,4,5}\n",
    "set2 = {1, 2, 3, 4,5,6}\n",
    "is_subset = set1.issubset(set2)\n",
    "print(\"Is set1 a subset of set2?\", is_subset)\n"
   ]
  },
  {
   "cell_type": "code",
   "execution_count": 64,
   "id": "2c418504-d649-42e7-88f4-c4262e85042d",
   "metadata": {},
   "outputs": [
    {
     "name": "stdout",
     "output_type": "stream",
     "text": [
      "Set of alternating 1s and 0s: {0, 1}\n"
     ]
    }
   ],
   "source": [
    "n = 30\n",
    "alternating_set = {i % 2 for i in range(n)}\n",
    "print(\"Set of alternating 1s and 0s:\", alternating_set)\n"
   ]
  },
  {
   "cell_type": "code",
   "execution_count": 63,
   "id": "2cdfb980-99ae-48af-af21-9cd6ab816dd7",
   "metadata": {},
   "outputs": [
    {
     "name": "stdout",
     "output_type": "stream",
     "text": [
      "Set of alternating 1s and 0s: {0, 1}\n"
     ]
    }
   ],
   "source": [
    "n = 50\n",
    "alternating_set = {i % 2 for i in range(n)}\n",
    "print(\"Set of alternating 1s and 0s:\", alternating_set)\n"
   ]
  },
  {
   "cell_type": "code",
   "execution_count": null,
   "id": "49e72c47-5c68-4659-af81-be1c5a41412f",
   "metadata": {},
   "outputs": [],
   "source": []
  }
 ],
 "metadata": {
  "kernelspec": {
   "display_name": "Python 3 (ipykernel)",
   "language": "python",
   "name": "python3"
  },
  "language_info": {
   "codemirror_mode": {
    "name": "ipython",
    "version": 3
   },
   "file_extension": ".py",
   "mimetype": "text/x-python",
   "name": "python",
   "nbconvert_exporter": "python",
   "pygments_lexer": "ipython3",
   "version": "3.10.8"
  }
 },
 "nbformat": 4,
 "nbformat_minor": 5
}
